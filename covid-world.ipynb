{
 "cells": [
  {
   "cell_type": "markdown",
   "metadata": {},
   "source": [
    "# Flattening the COVID-19 Curve\n",
    "\n",
    "\n",
    "\n",
    "### Context\n",
    "\n",
    "Coronaviruses are a large family of viruses which may cause illness in animals or humans. In humans, several coronaviruses are known to cause respiratory infections ranging from the common cold to more severe diseases such as Middle East Respiratory Syndrome (MERS) and Severe Acute Respiratory Syndrome (SARS). The most recently discovered coronavirus causes coronavirus disease COVID-19 - World Health Organization\n",
    "\n",
    "The number of new cases are increasing day by day around the world. This dataset has information from the states and union territories of India at daily level.\n",
    "\n",
    "State level data comes from Ministry of Health & Family Welfare\n",
    "\n",
    "Individual level data comes from covid19india\n",
    "\n",
    "\n",
    "### Inspiration\n",
    "\n",
    "Looking for data based suggestions to stop / delay the spread of virus\n",
    "\n",
    "\n",
    "### Acknowledgements\n",
    "\n",
    "\n",
    "Thanks to Indian Ministry of Health & Family Welfare for making the data available to general public.\n",
    "\n",
    "Thanks to covid19india.org for making the individual level details and testing details available to general public.\n",
    "\n",
    "Thanks to Wikipedia for population information.\n",
    "\n",
    "Photo Courtesy - https://hgis.uw.edu/virus/"
   ]
  },
  {
   "cell_type": "code",
   "execution_count": 1,
   "metadata": {},
   "outputs": [],
   "source": [
    "#Importing required packages\n",
    "\n",
    "import numpy as np\n",
    "import csv\n",
    "import matplotlib.pyplot as plt\n",
    "import matplotlib.colors as mcolors\n",
    "import random\n",
    "import math\n",
    "import time\n",
    "import datetime\n",
    "import operator\n",
    "from sklearn.model_selection import RandomizedSearchCV\n",
    "from sklearn.model_selection import train_test_split\n",
    "\n",
    "from sklearn.svm import SVR\n",
    "from sklearn.metrics import mean_squared_error, mean_absolute_error\n",
    "import os\n",
    "import pandas as pd\n",
    "import tarfile\n",
    "from six.moves import urllib"
   ]
  },
  {
   "cell_type": "markdown",
   "metadata": {},
   "source": [
    "Note : All data files for this notebook are under timeseries/ directory"
   ]
  },
  {
   "cell_type": "markdown",
   "metadata": {},
   "source": [
    "### Initialising the data\n",
    "\n",
    "Data Source : https://github.com/CSSEGISandData/COVID-19/\n",
    "\n",
    "Last Data update : 7:49 am, April 23, 2020\n",
    "\n",
    "Now we will load the separate time series data files for confirmed cases, deaths reported and recovered cases. \n"
   ]
  },
  {
   "cell_type": "code",
   "execution_count": 2,
   "metadata": {},
   "outputs": [
    {
     "data": {
      "text/html": [
       "<div>\n",
       "<style scoped>\n",
       "    .dataframe tbody tr th:only-of-type {\n",
       "        vertical-align: middle;\n",
       "    }\n",
       "\n",
       "    .dataframe tbody tr th {\n",
       "        vertical-align: top;\n",
       "    }\n",
       "\n",
       "    .dataframe thead th {\n",
       "        text-align: right;\n",
       "    }\n",
       "</style>\n",
       "<table border=\"1\" class=\"dataframe\">\n",
       "  <thead>\n",
       "    <tr style=\"text-align: right;\">\n",
       "      <th></th>\n",
       "      <th>Province/State</th>\n",
       "      <th>Country/Region</th>\n",
       "      <th>Lat</th>\n",
       "      <th>Long</th>\n",
       "      <th>1/22/20</th>\n",
       "      <th>1/23/20</th>\n",
       "      <th>1/24/20</th>\n",
       "      <th>1/25/20</th>\n",
       "      <th>1/26/20</th>\n",
       "      <th>1/27/20</th>\n",
       "      <th>...</th>\n",
       "      <th>4/13/20</th>\n",
       "      <th>4/14/20</th>\n",
       "      <th>4/15/20</th>\n",
       "      <th>4/16/20</th>\n",
       "      <th>4/17/20</th>\n",
       "      <th>4/18/20</th>\n",
       "      <th>4/19/20</th>\n",
       "      <th>4/20/20</th>\n",
       "      <th>4/21/20</th>\n",
       "      <th>4/22/20</th>\n",
       "    </tr>\n",
       "  </thead>\n",
       "  <tbody>\n",
       "    <tr>\n",
       "      <td>0</td>\n",
       "      <td>NaN</td>\n",
       "      <td>Afghanistan</td>\n",
       "      <td>33.0000</td>\n",
       "      <td>65.0000</td>\n",
       "      <td>0</td>\n",
       "      <td>0</td>\n",
       "      <td>0</td>\n",
       "      <td>0</td>\n",
       "      <td>0</td>\n",
       "      <td>0</td>\n",
       "      <td>...</td>\n",
       "      <td>665</td>\n",
       "      <td>714</td>\n",
       "      <td>784</td>\n",
       "      <td>840</td>\n",
       "      <td>906</td>\n",
       "      <td>933</td>\n",
       "      <td>996</td>\n",
       "      <td>1026</td>\n",
       "      <td>1092</td>\n",
       "      <td>1176</td>\n",
       "    </tr>\n",
       "    <tr>\n",
       "      <td>1</td>\n",
       "      <td>NaN</td>\n",
       "      <td>Albania</td>\n",
       "      <td>41.1533</td>\n",
       "      <td>20.1683</td>\n",
       "      <td>0</td>\n",
       "      <td>0</td>\n",
       "      <td>0</td>\n",
       "      <td>0</td>\n",
       "      <td>0</td>\n",
       "      <td>0</td>\n",
       "      <td>...</td>\n",
       "      <td>467</td>\n",
       "      <td>475</td>\n",
       "      <td>494</td>\n",
       "      <td>518</td>\n",
       "      <td>539</td>\n",
       "      <td>548</td>\n",
       "      <td>562</td>\n",
       "      <td>584</td>\n",
       "      <td>609</td>\n",
       "      <td>634</td>\n",
       "    </tr>\n",
       "    <tr>\n",
       "      <td>2</td>\n",
       "      <td>NaN</td>\n",
       "      <td>Algeria</td>\n",
       "      <td>28.0339</td>\n",
       "      <td>1.6596</td>\n",
       "      <td>0</td>\n",
       "      <td>0</td>\n",
       "      <td>0</td>\n",
       "      <td>0</td>\n",
       "      <td>0</td>\n",
       "      <td>0</td>\n",
       "      <td>...</td>\n",
       "      <td>1983</td>\n",
       "      <td>2070</td>\n",
       "      <td>2160</td>\n",
       "      <td>2268</td>\n",
       "      <td>2418</td>\n",
       "      <td>2534</td>\n",
       "      <td>2629</td>\n",
       "      <td>2718</td>\n",
       "      <td>2811</td>\n",
       "      <td>2910</td>\n",
       "    </tr>\n",
       "    <tr>\n",
       "      <td>3</td>\n",
       "      <td>NaN</td>\n",
       "      <td>Andorra</td>\n",
       "      <td>42.5063</td>\n",
       "      <td>1.5218</td>\n",
       "      <td>0</td>\n",
       "      <td>0</td>\n",
       "      <td>0</td>\n",
       "      <td>0</td>\n",
       "      <td>0</td>\n",
       "      <td>0</td>\n",
       "      <td>...</td>\n",
       "      <td>646</td>\n",
       "      <td>659</td>\n",
       "      <td>673</td>\n",
       "      <td>673</td>\n",
       "      <td>696</td>\n",
       "      <td>704</td>\n",
       "      <td>713</td>\n",
       "      <td>717</td>\n",
       "      <td>717</td>\n",
       "      <td>723</td>\n",
       "    </tr>\n",
       "    <tr>\n",
       "      <td>4</td>\n",
       "      <td>NaN</td>\n",
       "      <td>Angola</td>\n",
       "      <td>-11.2027</td>\n",
       "      <td>17.8739</td>\n",
       "      <td>0</td>\n",
       "      <td>0</td>\n",
       "      <td>0</td>\n",
       "      <td>0</td>\n",
       "      <td>0</td>\n",
       "      <td>0</td>\n",
       "      <td>...</td>\n",
       "      <td>19</td>\n",
       "      <td>19</td>\n",
       "      <td>19</td>\n",
       "      <td>19</td>\n",
       "      <td>19</td>\n",
       "      <td>24</td>\n",
       "      <td>24</td>\n",
       "      <td>24</td>\n",
       "      <td>24</td>\n",
       "      <td>25</td>\n",
       "    </tr>\n",
       "  </tbody>\n",
       "</table>\n",
       "<p>5 rows × 96 columns</p>\n",
       "</div>"
      ],
      "text/plain": [
       "  Province/State Country/Region      Lat     Long  1/22/20  1/23/20  1/24/20  \\\n",
       "0            NaN    Afghanistan  33.0000  65.0000        0        0        0   \n",
       "1            NaN        Albania  41.1533  20.1683        0        0        0   \n",
       "2            NaN        Algeria  28.0339   1.6596        0        0        0   \n",
       "3            NaN        Andorra  42.5063   1.5218        0        0        0   \n",
       "4            NaN         Angola -11.2027  17.8739        0        0        0   \n",
       "\n",
       "   1/25/20  1/26/20  1/27/20  ...  4/13/20  4/14/20  4/15/20  4/16/20  \\\n",
       "0        0        0        0  ...      665      714      784      840   \n",
       "1        0        0        0  ...      467      475      494      518   \n",
       "2        0        0        0  ...     1983     2070     2160     2268   \n",
       "3        0        0        0  ...      646      659      673      673   \n",
       "4        0        0        0  ...       19       19       19       19   \n",
       "\n",
       "   4/17/20  4/18/20  4/19/20  4/20/20  4/21/20  4/22/20  \n",
       "0      906      933      996     1026     1092     1176  \n",
       "1      539      548      562      584      609      634  \n",
       "2     2418     2534     2629     2718     2811     2910  \n",
       "3      696      704      713      717      717      723  \n",
       "4       19       24       24       24       24       25  \n",
       "\n",
       "[5 rows x 96 columns]"
      ]
     },
     "execution_count": 2,
     "metadata": {},
     "output_type": "execute_result"
    }
   ],
   "source": [
    "confirmed_cases = pd.read_csv(r'C:\\Users\\lappy\\Desktop\\machine learning\\prediction_project/timeseries/time_series_covid19_confirmed_global.csv')\n",
    "confirmed_cases.head()"
   ]
  },
  {
   "cell_type": "code",
   "execution_count": 3,
   "metadata": {},
   "outputs": [
    {
     "data": {
      "text/html": [
       "<div>\n",
       "<style scoped>\n",
       "    .dataframe tbody tr th:only-of-type {\n",
       "        vertical-align: middle;\n",
       "    }\n",
       "\n",
       "    .dataframe tbody tr th {\n",
       "        vertical-align: top;\n",
       "    }\n",
       "\n",
       "    .dataframe thead th {\n",
       "        text-align: right;\n",
       "    }\n",
       "</style>\n",
       "<table border=\"1\" class=\"dataframe\">\n",
       "  <thead>\n",
       "    <tr style=\"text-align: right;\">\n",
       "      <th></th>\n",
       "      <th>Province/State</th>\n",
       "      <th>Country/Region</th>\n",
       "      <th>Lat</th>\n",
       "      <th>Long</th>\n",
       "      <th>1/22/20</th>\n",
       "      <th>1/23/20</th>\n",
       "      <th>1/24/20</th>\n",
       "      <th>1/25/20</th>\n",
       "      <th>1/26/20</th>\n",
       "      <th>1/27/20</th>\n",
       "      <th>...</th>\n",
       "      <th>4/13/20</th>\n",
       "      <th>4/14/20</th>\n",
       "      <th>4/15/20</th>\n",
       "      <th>4/16/20</th>\n",
       "      <th>4/17/20</th>\n",
       "      <th>4/18/20</th>\n",
       "      <th>4/19/20</th>\n",
       "      <th>4/20/20</th>\n",
       "      <th>4/21/20</th>\n",
       "      <th>4/22/20</th>\n",
       "    </tr>\n",
       "  </thead>\n",
       "  <tbody>\n",
       "    <tr>\n",
       "      <td>0</td>\n",
       "      <td>NaN</td>\n",
       "      <td>Afghanistan</td>\n",
       "      <td>33.0000</td>\n",
       "      <td>65.0000</td>\n",
       "      <td>0</td>\n",
       "      <td>0</td>\n",
       "      <td>0</td>\n",
       "      <td>0</td>\n",
       "      <td>0</td>\n",
       "      <td>0</td>\n",
       "      <td>...</td>\n",
       "      <td>21</td>\n",
       "      <td>23</td>\n",
       "      <td>25</td>\n",
       "      <td>30</td>\n",
       "      <td>30</td>\n",
       "      <td>30</td>\n",
       "      <td>33</td>\n",
       "      <td>36</td>\n",
       "      <td>36</td>\n",
       "      <td>40</td>\n",
       "    </tr>\n",
       "    <tr>\n",
       "      <td>1</td>\n",
       "      <td>NaN</td>\n",
       "      <td>Albania</td>\n",
       "      <td>41.1533</td>\n",
       "      <td>20.1683</td>\n",
       "      <td>0</td>\n",
       "      <td>0</td>\n",
       "      <td>0</td>\n",
       "      <td>0</td>\n",
       "      <td>0</td>\n",
       "      <td>0</td>\n",
       "      <td>...</td>\n",
       "      <td>23</td>\n",
       "      <td>24</td>\n",
       "      <td>25</td>\n",
       "      <td>26</td>\n",
       "      <td>26</td>\n",
       "      <td>26</td>\n",
       "      <td>26</td>\n",
       "      <td>26</td>\n",
       "      <td>26</td>\n",
       "      <td>27</td>\n",
       "    </tr>\n",
       "    <tr>\n",
       "      <td>2</td>\n",
       "      <td>NaN</td>\n",
       "      <td>Algeria</td>\n",
       "      <td>28.0339</td>\n",
       "      <td>1.6596</td>\n",
       "      <td>0</td>\n",
       "      <td>0</td>\n",
       "      <td>0</td>\n",
       "      <td>0</td>\n",
       "      <td>0</td>\n",
       "      <td>0</td>\n",
       "      <td>...</td>\n",
       "      <td>313</td>\n",
       "      <td>326</td>\n",
       "      <td>336</td>\n",
       "      <td>348</td>\n",
       "      <td>364</td>\n",
       "      <td>367</td>\n",
       "      <td>375</td>\n",
       "      <td>384</td>\n",
       "      <td>392</td>\n",
       "      <td>402</td>\n",
       "    </tr>\n",
       "    <tr>\n",
       "      <td>3</td>\n",
       "      <td>NaN</td>\n",
       "      <td>Andorra</td>\n",
       "      <td>42.5063</td>\n",
       "      <td>1.5218</td>\n",
       "      <td>0</td>\n",
       "      <td>0</td>\n",
       "      <td>0</td>\n",
       "      <td>0</td>\n",
       "      <td>0</td>\n",
       "      <td>0</td>\n",
       "      <td>...</td>\n",
       "      <td>29</td>\n",
       "      <td>31</td>\n",
       "      <td>33</td>\n",
       "      <td>33</td>\n",
       "      <td>35</td>\n",
       "      <td>35</td>\n",
       "      <td>36</td>\n",
       "      <td>37</td>\n",
       "      <td>37</td>\n",
       "      <td>37</td>\n",
       "    </tr>\n",
       "    <tr>\n",
       "      <td>4</td>\n",
       "      <td>NaN</td>\n",
       "      <td>Angola</td>\n",
       "      <td>-11.2027</td>\n",
       "      <td>17.8739</td>\n",
       "      <td>0</td>\n",
       "      <td>0</td>\n",
       "      <td>0</td>\n",
       "      <td>0</td>\n",
       "      <td>0</td>\n",
       "      <td>0</td>\n",
       "      <td>...</td>\n",
       "      <td>2</td>\n",
       "      <td>2</td>\n",
       "      <td>2</td>\n",
       "      <td>2</td>\n",
       "      <td>2</td>\n",
       "      <td>2</td>\n",
       "      <td>2</td>\n",
       "      <td>2</td>\n",
       "      <td>2</td>\n",
       "      <td>2</td>\n",
       "    </tr>\n",
       "  </tbody>\n",
       "</table>\n",
       "<p>5 rows × 96 columns</p>\n",
       "</div>"
      ],
      "text/plain": [
       "  Province/State Country/Region      Lat     Long  1/22/20  1/23/20  1/24/20  \\\n",
       "0            NaN    Afghanistan  33.0000  65.0000        0        0        0   \n",
       "1            NaN        Albania  41.1533  20.1683        0        0        0   \n",
       "2            NaN        Algeria  28.0339   1.6596        0        0        0   \n",
       "3            NaN        Andorra  42.5063   1.5218        0        0        0   \n",
       "4            NaN         Angola -11.2027  17.8739        0        0        0   \n",
       "\n",
       "   1/25/20  1/26/20  1/27/20  ...  4/13/20  4/14/20  4/15/20  4/16/20  \\\n",
       "0        0        0        0  ...       21       23       25       30   \n",
       "1        0        0        0  ...       23       24       25       26   \n",
       "2        0        0        0  ...      313      326      336      348   \n",
       "3        0        0        0  ...       29       31       33       33   \n",
       "4        0        0        0  ...        2        2        2        2   \n",
       "\n",
       "   4/17/20  4/18/20  4/19/20  4/20/20  4/21/20  4/22/20  \n",
       "0       30       30       33       36       36       40  \n",
       "1       26       26       26       26       26       27  \n",
       "2      364      367      375      384      392      402  \n",
       "3       35       35       36       37       37       37  \n",
       "4        2        2        2        2        2        2  \n",
       "\n",
       "[5 rows x 96 columns]"
      ]
     },
     "execution_count": 3,
     "metadata": {},
     "output_type": "execute_result"
    }
   ],
   "source": [
    "deaths_reported = pd.read_csv(r'C:\\Users\\lappy\\Desktop\\machine learning\\prediction_project/timeseries/time_series_covid19_deaths_global.csv')\n",
    "deaths_reported.head()"
   ]
  },
  {
   "cell_type": "code",
   "execution_count": 4,
   "metadata": {},
   "outputs": [
    {
     "data": {
      "text/html": [
       "<div>\n",
       "<style scoped>\n",
       "    .dataframe tbody tr th:only-of-type {\n",
       "        vertical-align: middle;\n",
       "    }\n",
       "\n",
       "    .dataframe tbody tr th {\n",
       "        vertical-align: top;\n",
       "    }\n",
       "\n",
       "    .dataframe thead th {\n",
       "        text-align: right;\n",
       "    }\n",
       "</style>\n",
       "<table border=\"1\" class=\"dataframe\">\n",
       "  <thead>\n",
       "    <tr style=\"text-align: right;\">\n",
       "      <th></th>\n",
       "      <th>Province/State</th>\n",
       "      <th>Country/Region</th>\n",
       "      <th>Lat</th>\n",
       "      <th>Long</th>\n",
       "      <th>1/22/20</th>\n",
       "      <th>1/23/20</th>\n",
       "      <th>1/24/20</th>\n",
       "      <th>1/25/20</th>\n",
       "      <th>1/26/20</th>\n",
       "      <th>1/27/20</th>\n",
       "      <th>...</th>\n",
       "      <th>4/13/20</th>\n",
       "      <th>4/14/20</th>\n",
       "      <th>4/15/20</th>\n",
       "      <th>4/16/20</th>\n",
       "      <th>4/17/20</th>\n",
       "      <th>4/18/20</th>\n",
       "      <th>4/19/20</th>\n",
       "      <th>4/20/20</th>\n",
       "      <th>4/21/20</th>\n",
       "      <th>4/22/20</th>\n",
       "    </tr>\n",
       "  </thead>\n",
       "  <tbody>\n",
       "    <tr>\n",
       "      <td>0</td>\n",
       "      <td>NaN</td>\n",
       "      <td>Afghanistan</td>\n",
       "      <td>33.0000</td>\n",
       "      <td>65.0000</td>\n",
       "      <td>0</td>\n",
       "      <td>0</td>\n",
       "      <td>0</td>\n",
       "      <td>0</td>\n",
       "      <td>0</td>\n",
       "      <td>0</td>\n",
       "      <td>...</td>\n",
       "      <td>32</td>\n",
       "      <td>40</td>\n",
       "      <td>43</td>\n",
       "      <td>54</td>\n",
       "      <td>99</td>\n",
       "      <td>112</td>\n",
       "      <td>131</td>\n",
       "      <td>135</td>\n",
       "      <td>150</td>\n",
       "      <td>166</td>\n",
       "    </tr>\n",
       "    <tr>\n",
       "      <td>1</td>\n",
       "      <td>NaN</td>\n",
       "      <td>Albania</td>\n",
       "      <td>41.1533</td>\n",
       "      <td>20.1683</td>\n",
       "      <td>0</td>\n",
       "      <td>0</td>\n",
       "      <td>0</td>\n",
       "      <td>0</td>\n",
       "      <td>0</td>\n",
       "      <td>0</td>\n",
       "      <td>...</td>\n",
       "      <td>232</td>\n",
       "      <td>248</td>\n",
       "      <td>251</td>\n",
       "      <td>277</td>\n",
       "      <td>283</td>\n",
       "      <td>302</td>\n",
       "      <td>314</td>\n",
       "      <td>327</td>\n",
       "      <td>345</td>\n",
       "      <td>356</td>\n",
       "    </tr>\n",
       "    <tr>\n",
       "      <td>2</td>\n",
       "      <td>NaN</td>\n",
       "      <td>Algeria</td>\n",
       "      <td>28.0339</td>\n",
       "      <td>1.6596</td>\n",
       "      <td>0</td>\n",
       "      <td>0</td>\n",
       "      <td>0</td>\n",
       "      <td>0</td>\n",
       "      <td>0</td>\n",
       "      <td>0</td>\n",
       "      <td>...</td>\n",
       "      <td>601</td>\n",
       "      <td>691</td>\n",
       "      <td>708</td>\n",
       "      <td>783</td>\n",
       "      <td>846</td>\n",
       "      <td>894</td>\n",
       "      <td>1047</td>\n",
       "      <td>1099</td>\n",
       "      <td>1152</td>\n",
       "      <td>1204</td>\n",
       "    </tr>\n",
       "    <tr>\n",
       "      <td>3</td>\n",
       "      <td>NaN</td>\n",
       "      <td>Andorra</td>\n",
       "      <td>42.5063</td>\n",
       "      <td>1.5218</td>\n",
       "      <td>0</td>\n",
       "      <td>0</td>\n",
       "      <td>0</td>\n",
       "      <td>0</td>\n",
       "      <td>0</td>\n",
       "      <td>0</td>\n",
       "      <td>...</td>\n",
       "      <td>128</td>\n",
       "      <td>128</td>\n",
       "      <td>169</td>\n",
       "      <td>169</td>\n",
       "      <td>191</td>\n",
       "      <td>205</td>\n",
       "      <td>235</td>\n",
       "      <td>248</td>\n",
       "      <td>282</td>\n",
       "      <td>309</td>\n",
       "    </tr>\n",
       "    <tr>\n",
       "      <td>4</td>\n",
       "      <td>NaN</td>\n",
       "      <td>Angola</td>\n",
       "      <td>-11.2027</td>\n",
       "      <td>17.8739</td>\n",
       "      <td>0</td>\n",
       "      <td>0</td>\n",
       "      <td>0</td>\n",
       "      <td>0</td>\n",
       "      <td>0</td>\n",
       "      <td>0</td>\n",
       "      <td>...</td>\n",
       "      <td>4</td>\n",
       "      <td>5</td>\n",
       "      <td>5</td>\n",
       "      <td>5</td>\n",
       "      <td>5</td>\n",
       "      <td>6</td>\n",
       "      <td>6</td>\n",
       "      <td>6</td>\n",
       "      <td>6</td>\n",
       "      <td>6</td>\n",
       "    </tr>\n",
       "  </tbody>\n",
       "</table>\n",
       "<p>5 rows × 96 columns</p>\n",
       "</div>"
      ],
      "text/plain": [
       "  Province/State Country/Region      Lat     Long  1/22/20  1/23/20  1/24/20  \\\n",
       "0            NaN    Afghanistan  33.0000  65.0000        0        0        0   \n",
       "1            NaN        Albania  41.1533  20.1683        0        0        0   \n",
       "2            NaN        Algeria  28.0339   1.6596        0        0        0   \n",
       "3            NaN        Andorra  42.5063   1.5218        0        0        0   \n",
       "4            NaN         Angola -11.2027  17.8739        0        0        0   \n",
       "\n",
       "   1/25/20  1/26/20  1/27/20  ...  4/13/20  4/14/20  4/15/20  4/16/20  \\\n",
       "0        0        0        0  ...       32       40       43       54   \n",
       "1        0        0        0  ...      232      248      251      277   \n",
       "2        0        0        0  ...      601      691      708      783   \n",
       "3        0        0        0  ...      128      128      169      169   \n",
       "4        0        0        0  ...        4        5        5        5   \n",
       "\n",
       "   4/17/20  4/18/20  4/19/20  4/20/20  4/21/20  4/22/20  \n",
       "0       99      112      131      135      150      166  \n",
       "1      283      302      314      327      345      356  \n",
       "2      846      894     1047     1099     1152     1204  \n",
       "3      191      205      235      248      282      309  \n",
       "4        5        6        6        6        6        6  \n",
       "\n",
       "[5 rows x 96 columns]"
      ]
     },
     "execution_count": 4,
     "metadata": {},
     "output_type": "execute_result"
    }
   ],
   "source": [
    "recovered_cases = pd.read_csv(r'C:\\Users\\lappy\\Desktop\\machine learning\\prediction_project/timeseries/time_series_covid19_recovered_global.csv')\n",
    "recovered_cases.head()"
   ]
  },
  {
   "cell_type": "code",
   "execution_count": 5,
   "metadata": {},
   "outputs": [
    {
     "data": {
      "text/plain": [
       "Index(['Province/State', 'Country/Region', 'Lat', 'Long', '1/22/20', '1/23/20',\n",
       "       '1/24/20', '1/25/20', '1/26/20', '1/27/20', '1/28/20', '1/29/20',\n",
       "       '1/30/20', '1/31/20', '2/1/20', '2/2/20', '2/3/20', '2/4/20', '2/5/20',\n",
       "       '2/6/20', '2/7/20', '2/8/20', '2/9/20', '2/10/20', '2/11/20', '2/12/20',\n",
       "       '2/13/20', '2/14/20', '2/15/20', '2/16/20', '2/17/20', '2/18/20',\n",
       "       '2/19/20', '2/20/20', '2/21/20', '2/22/20', '2/23/20', '2/24/20',\n",
       "       '2/25/20', '2/26/20', '2/27/20', '2/28/20', '2/29/20', '3/1/20',\n",
       "       '3/2/20', '3/3/20', '3/4/20', '3/5/20', '3/6/20', '3/7/20', '3/8/20',\n",
       "       '3/9/20', '3/10/20', '3/11/20', '3/12/20', '3/13/20', '3/14/20',\n",
       "       '3/15/20', '3/16/20', '3/17/20', '3/18/20', '3/19/20', '3/20/20',\n",
       "       '3/21/20', '3/22/20', '3/23/20', '3/24/20', '3/25/20', '3/26/20',\n",
       "       '3/27/20', '3/28/20', '3/29/20', '3/30/20', '3/31/20', '4/1/20',\n",
       "       '4/2/20', '4/3/20', '4/4/20', '4/5/20', '4/6/20', '4/7/20', '4/8/20',\n",
       "       '4/9/20', '4/10/20', '4/11/20', '4/12/20', '4/13/20', '4/14/20',\n",
       "       '4/15/20', '4/16/20', '4/17/20', '4/18/20', '4/19/20', '4/20/20',\n",
       "       '4/21/20', '4/22/20'],\n",
       "      dtype='object')"
      ]
     },
     "execution_count": 5,
     "metadata": {},
     "output_type": "execute_result"
    }
   ],
   "source": [
    "#Collecting all columns from confirmed_cases\n",
    "conf_cols = confirmed_cases.keys()\n",
    "conf_cols"
   ]
  },
  {
   "cell_type": "code",
   "execution_count": 6,
   "metadata": {},
   "outputs": [],
   "source": [
    "confirmed = confirmed_cases.loc[:, conf_cols[4]:conf_cols[-1]]"
   ]
  },
  {
   "cell_type": "code",
   "execution_count": 7,
   "metadata": {},
   "outputs": [],
   "source": [
    "deaths = deaths_reported.loc[:, conf_cols[4]:conf_cols[-1]]"
   ]
  },
  {
   "cell_type": "code",
   "execution_count": 8,
   "metadata": {},
   "outputs": [],
   "source": [
    "recoveries = recovered_cases.loc[:, conf_cols[4]:conf_cols[-1]]"
   ]
  },
  {
   "cell_type": "code",
   "execution_count": 9,
   "metadata": {},
   "outputs": [
    {
     "data": {
      "text/html": [
       "<div>\n",
       "<style scoped>\n",
       "    .dataframe tbody tr th:only-of-type {\n",
       "        vertical-align: middle;\n",
       "    }\n",
       "\n",
       "    .dataframe tbody tr th {\n",
       "        vertical-align: top;\n",
       "    }\n",
       "\n",
       "    .dataframe thead th {\n",
       "        text-align: right;\n",
       "    }\n",
       "</style>\n",
       "<table border=\"1\" class=\"dataframe\">\n",
       "  <thead>\n",
       "    <tr style=\"text-align: right;\">\n",
       "      <th></th>\n",
       "      <th>1/22/20</th>\n",
       "      <th>1/23/20</th>\n",
       "      <th>1/24/20</th>\n",
       "      <th>1/25/20</th>\n",
       "      <th>1/26/20</th>\n",
       "      <th>1/27/20</th>\n",
       "      <th>1/28/20</th>\n",
       "      <th>1/29/20</th>\n",
       "      <th>1/30/20</th>\n",
       "      <th>1/31/20</th>\n",
       "      <th>...</th>\n",
       "      <th>4/13/20</th>\n",
       "      <th>4/14/20</th>\n",
       "      <th>4/15/20</th>\n",
       "      <th>4/16/20</th>\n",
       "      <th>4/17/20</th>\n",
       "      <th>4/18/20</th>\n",
       "      <th>4/19/20</th>\n",
       "      <th>4/20/20</th>\n",
       "      <th>4/21/20</th>\n",
       "      <th>4/22/20</th>\n",
       "    </tr>\n",
       "  </thead>\n",
       "  <tbody>\n",
       "    <tr>\n",
       "      <td>0</td>\n",
       "      <td>0</td>\n",
       "      <td>0</td>\n",
       "      <td>0</td>\n",
       "      <td>0</td>\n",
       "      <td>0</td>\n",
       "      <td>0</td>\n",
       "      <td>0</td>\n",
       "      <td>0</td>\n",
       "      <td>0</td>\n",
       "      <td>0</td>\n",
       "      <td>...</td>\n",
       "      <td>665</td>\n",
       "      <td>714</td>\n",
       "      <td>784</td>\n",
       "      <td>840</td>\n",
       "      <td>906</td>\n",
       "      <td>933</td>\n",
       "      <td>996</td>\n",
       "      <td>1026</td>\n",
       "      <td>1092</td>\n",
       "      <td>1176</td>\n",
       "    </tr>\n",
       "    <tr>\n",
       "      <td>1</td>\n",
       "      <td>0</td>\n",
       "      <td>0</td>\n",
       "      <td>0</td>\n",
       "      <td>0</td>\n",
       "      <td>0</td>\n",
       "      <td>0</td>\n",
       "      <td>0</td>\n",
       "      <td>0</td>\n",
       "      <td>0</td>\n",
       "      <td>0</td>\n",
       "      <td>...</td>\n",
       "      <td>467</td>\n",
       "      <td>475</td>\n",
       "      <td>494</td>\n",
       "      <td>518</td>\n",
       "      <td>539</td>\n",
       "      <td>548</td>\n",
       "      <td>562</td>\n",
       "      <td>584</td>\n",
       "      <td>609</td>\n",
       "      <td>634</td>\n",
       "    </tr>\n",
       "    <tr>\n",
       "      <td>2</td>\n",
       "      <td>0</td>\n",
       "      <td>0</td>\n",
       "      <td>0</td>\n",
       "      <td>0</td>\n",
       "      <td>0</td>\n",
       "      <td>0</td>\n",
       "      <td>0</td>\n",
       "      <td>0</td>\n",
       "      <td>0</td>\n",
       "      <td>0</td>\n",
       "      <td>...</td>\n",
       "      <td>1983</td>\n",
       "      <td>2070</td>\n",
       "      <td>2160</td>\n",
       "      <td>2268</td>\n",
       "      <td>2418</td>\n",
       "      <td>2534</td>\n",
       "      <td>2629</td>\n",
       "      <td>2718</td>\n",
       "      <td>2811</td>\n",
       "      <td>2910</td>\n",
       "    </tr>\n",
       "    <tr>\n",
       "      <td>3</td>\n",
       "      <td>0</td>\n",
       "      <td>0</td>\n",
       "      <td>0</td>\n",
       "      <td>0</td>\n",
       "      <td>0</td>\n",
       "      <td>0</td>\n",
       "      <td>0</td>\n",
       "      <td>0</td>\n",
       "      <td>0</td>\n",
       "      <td>0</td>\n",
       "      <td>...</td>\n",
       "      <td>646</td>\n",
       "      <td>659</td>\n",
       "      <td>673</td>\n",
       "      <td>673</td>\n",
       "      <td>696</td>\n",
       "      <td>704</td>\n",
       "      <td>713</td>\n",
       "      <td>717</td>\n",
       "      <td>717</td>\n",
       "      <td>723</td>\n",
       "    </tr>\n",
       "    <tr>\n",
       "      <td>4</td>\n",
       "      <td>0</td>\n",
       "      <td>0</td>\n",
       "      <td>0</td>\n",
       "      <td>0</td>\n",
       "      <td>0</td>\n",
       "      <td>0</td>\n",
       "      <td>0</td>\n",
       "      <td>0</td>\n",
       "      <td>0</td>\n",
       "      <td>0</td>\n",
       "      <td>...</td>\n",
       "      <td>19</td>\n",
       "      <td>19</td>\n",
       "      <td>19</td>\n",
       "      <td>19</td>\n",
       "      <td>19</td>\n",
       "      <td>24</td>\n",
       "      <td>24</td>\n",
       "      <td>24</td>\n",
       "      <td>24</td>\n",
       "      <td>25</td>\n",
       "    </tr>\n",
       "  </tbody>\n",
       "</table>\n",
       "<p>5 rows × 92 columns</p>\n",
       "</div>"
      ],
      "text/plain": [
       "   1/22/20  1/23/20  1/24/20  1/25/20  1/26/20  1/27/20  1/28/20  1/29/20  \\\n",
       "0        0        0        0        0        0        0        0        0   \n",
       "1        0        0        0        0        0        0        0        0   \n",
       "2        0        0        0        0        0        0        0        0   \n",
       "3        0        0        0        0        0        0        0        0   \n",
       "4        0        0        0        0        0        0        0        0   \n",
       "\n",
       "   1/30/20  1/31/20  ...  4/13/20  4/14/20  4/15/20  4/16/20  4/17/20  \\\n",
       "0        0        0  ...      665      714      784      840      906   \n",
       "1        0        0  ...      467      475      494      518      539   \n",
       "2        0        0  ...     1983     2070     2160     2268     2418   \n",
       "3        0        0  ...      646      659      673      673      696   \n",
       "4        0        0  ...       19       19       19       19       19   \n",
       "\n",
       "   4/18/20  4/19/20  4/20/20  4/21/20  4/22/20  \n",
       "0      933      996     1026     1092     1176  \n",
       "1      548      562      584      609      634  \n",
       "2     2534     2629     2718     2811     2910  \n",
       "3      704      713      717      717      723  \n",
       "4       24       24       24       24       25  \n",
       "\n",
       "[5 rows x 92 columns]"
      ]
     },
     "execution_count": 9,
     "metadata": {},
     "output_type": "execute_result"
    }
   ],
   "source": [
    "#check if extraction completed properly\n",
    "confirmed.head()"
   ]
  },
  {
   "cell_type": "markdown",
   "metadata": {},
   "source": [
    "Now we will find the total number of confirmed cases, deaths and recovered cases and append them to their lists via a loop.\n",
    "Also, we will calculate mortality rate.\n",
    "\n",
    "#### Mortality Rate = (total number of deaths) / (total number of confirmed cases)"
   ]
  },
  {
   "cell_type": "code",
   "execution_count": 10,
   "metadata": {},
   "outputs": [],
   "source": [
    "#initializing lists\n",
    "\n",
    "dates = confirmed.keys()\n",
    "world_cases = []\n",
    "total_deaths = []\n",
    "mortality_rate = []\n",
    "total_recovered = []"
   ]
  },
  {
   "cell_type": "code",
   "execution_count": 11,
   "metadata": {},
   "outputs": [],
   "source": [
    "for i in dates:\n",
    "    confirmed_sum = confirmed[i].sum()\n",
    "    death_sum = deaths[i].sum()\n",
    "    recovered_sum = recoveries[i].sum()\n",
    "    \n",
    "    world_cases.append(confirmed_sum)\n",
    "    total_deaths.append(death_sum)\n",
    "    mortality_rate.append(death_sum/confirmed_sum)\n",
    "    total_recovered.append(recovered_sum)"
   ]
  },
  {
   "cell_type": "code",
   "execution_count": 12,
   "metadata": {},
   "outputs": [
    {
     "data": {
      "text/plain": [
       "2623413"
      ]
     },
     "execution_count": 12,
     "metadata": {},
     "output_type": "execute_result"
    }
   ],
   "source": [
    "confirmed_sum"
   ]
  },
  {
   "cell_type": "code",
   "execution_count": 13,
   "metadata": {},
   "outputs": [
    {
     "data": {
      "text/plain": [
       "183025"
      ]
     },
     "execution_count": 13,
     "metadata": {},
     "output_type": "execute_result"
    }
   ],
   "source": [
    "death_sum"
   ]
  },
  {
   "cell_type": "code",
   "execution_count": 14,
   "metadata": {},
   "outputs": [
    {
     "data": {
      "text/plain": [
       "709694"
      ]
     },
     "execution_count": 14,
     "metadata": {},
     "output_type": "execute_result"
    }
   ],
   "source": [
    "recovered_sum"
   ]
  },
  {
   "cell_type": "code",
   "execution_count": 15,
   "metadata": {},
   "outputs": [
    {
     "data": {
      "text/plain": [
       "[555,\n",
       " 654,\n",
       " 941,\n",
       " 1434,\n",
       " 2118,\n",
       " 2927,\n",
       " 5578,\n",
       " 6166,\n",
       " 8234,\n",
       " 9927,\n",
       " 12038,\n",
       " 16787,\n",
       " 19881,\n",
       " 23892,\n",
       " 27635,\n",
       " 30794,\n",
       " 34391,\n",
       " 37120,\n",
       " 40150,\n",
       " 42762,\n",
       " 44802,\n",
       " 45221,\n",
       " 60368,\n",
       " 66885,\n",
       " 69030,\n",
       " 71224,\n",
       " 73258,\n",
       " 75136,\n",
       " 75639,\n",
       " 76197,\n",
       " 76819,\n",
       " 78572,\n",
       " 78958,\n",
       " 79561,\n",
       " 80406,\n",
       " 81388,\n",
       " 82746,\n",
       " 84112,\n",
       " 86011,\n",
       " 88369,\n",
       " 90306,\n",
       " 92840,\n",
       " 95120,\n",
       " 97886,\n",
       " 101801,\n",
       " 105847,\n",
       " 109821,\n",
       " 113590,\n",
       " 118620,\n",
       " 125875,\n",
       " 128352,\n",
       " 145205,\n",
       " 156101,\n",
       " 167454,\n",
       " 181574,\n",
       " 197102,\n",
       " 214821,\n",
       " 242570,\n",
       " 272208,\n",
       " 304507,\n",
       " 336953,\n",
       " 378231,\n",
       " 418041,\n",
       " 467653,\n",
       " 529591,\n",
       " 593291,\n",
       " 660693,\n",
       " 720140,\n",
       " 782389,\n",
       " 857487,\n",
       " 932475,\n",
       " 1013326,\n",
       " 1095698,\n",
       " 1175857,\n",
       " 1249484,\n",
       " 1321131,\n",
       " 1396092,\n",
       " 1479804,\n",
       " 1565278,\n",
       " 1657526,\n",
       " 1735650,\n",
       " 1834721,\n",
       " 1904838,\n",
       " 1976191,\n",
       " 2056054,\n",
       " 2152437,\n",
       " 2240190,\n",
       " 2317758,\n",
       " 2401101,\n",
       " 2472258,\n",
       " 2549293,\n",
       " 2623413]"
      ]
     },
     "execution_count": 15,
     "metadata": {},
     "output_type": "execute_result"
    }
   ],
   "source": [
    "world_cases"
   ]
  },
  {
   "cell_type": "code",
   "execution_count": 16,
   "metadata": {},
   "outputs": [],
   "source": [
    "#converting all values to numpy arrays\n",
    "\n",
    "days_since_jan22 = np.array([i for i in range(len(dates))]).reshape(-1,1)\n",
    "world_cases = np.array(world_cases).reshape(-1, 1)\n",
    "total_deaths = np.array(total_deaths).reshape(-1, 1)\n",
    "total_recovered = np.array(total_recovered).reshape(-1, 1)"
   ]
  },
  {
   "cell_type": "code",
   "execution_count": 17,
   "metadata": {},
   "outputs": [
    {
     "data": {
      "text/plain": [
       "array([[ 0],\n",
       "       [ 1],\n",
       "       [ 2],\n",
       "       [ 3],\n",
       "       [ 4],\n",
       "       [ 5],\n",
       "       [ 6],\n",
       "       [ 7],\n",
       "       [ 8],\n",
       "       [ 9],\n",
       "       [10],\n",
       "       [11],\n",
       "       [12],\n",
       "       [13],\n",
       "       [14],\n",
       "       [15],\n",
       "       [16],\n",
       "       [17],\n",
       "       [18],\n",
       "       [19],\n",
       "       [20],\n",
       "       [21],\n",
       "       [22],\n",
       "       [23],\n",
       "       [24],\n",
       "       [25],\n",
       "       [26],\n",
       "       [27],\n",
       "       [28],\n",
       "       [29],\n",
       "       [30],\n",
       "       [31],\n",
       "       [32],\n",
       "       [33],\n",
       "       [34],\n",
       "       [35],\n",
       "       [36],\n",
       "       [37],\n",
       "       [38],\n",
       "       [39],\n",
       "       [40],\n",
       "       [41],\n",
       "       [42],\n",
       "       [43],\n",
       "       [44],\n",
       "       [45],\n",
       "       [46],\n",
       "       [47],\n",
       "       [48],\n",
       "       [49],\n",
       "       [50],\n",
       "       [51],\n",
       "       [52],\n",
       "       [53],\n",
       "       [54],\n",
       "       [55],\n",
       "       [56],\n",
       "       [57],\n",
       "       [58],\n",
       "       [59],\n",
       "       [60],\n",
       "       [61],\n",
       "       [62],\n",
       "       [63],\n",
       "       [64],\n",
       "       [65],\n",
       "       [66],\n",
       "       [67],\n",
       "       [68],\n",
       "       [69],\n",
       "       [70],\n",
       "       [71],\n",
       "       [72],\n",
       "       [73],\n",
       "       [74],\n",
       "       [75],\n",
       "       [76],\n",
       "       [77],\n",
       "       [78],\n",
       "       [79],\n",
       "       [80],\n",
       "       [81],\n",
       "       [82],\n",
       "       [83],\n",
       "       [84],\n",
       "       [85],\n",
       "       [86],\n",
       "       [87],\n",
       "       [88],\n",
       "       [89],\n",
       "       [90],\n",
       "       [91]])"
      ]
     },
     "execution_count": 17,
     "metadata": {},
     "output_type": "execute_result"
    }
   ],
   "source": [
    "days_since_jan22"
   ]
  },
  {
   "cell_type": "code",
   "execution_count": 18,
   "metadata": {},
   "outputs": [
    {
     "data": {
      "text/plain": [
       "array([[    555],\n",
       "       [    654],\n",
       "       [    941],\n",
       "       [   1434],\n",
       "       [   2118],\n",
       "       [   2927],\n",
       "       [   5578],\n",
       "       [   6166],\n",
       "       [   8234],\n",
       "       [   9927],\n",
       "       [  12038],\n",
       "       [  16787],\n",
       "       [  19881],\n",
       "       [  23892],\n",
       "       [  27635],\n",
       "       [  30794],\n",
       "       [  34391],\n",
       "       [  37120],\n",
       "       [  40150],\n",
       "       [  42762],\n",
       "       [  44802],\n",
       "       [  45221],\n",
       "       [  60368],\n",
       "       [  66885],\n",
       "       [  69030],\n",
       "       [  71224],\n",
       "       [  73258],\n",
       "       [  75136],\n",
       "       [  75639],\n",
       "       [  76197],\n",
       "       [  76819],\n",
       "       [  78572],\n",
       "       [  78958],\n",
       "       [  79561],\n",
       "       [  80406],\n",
       "       [  81388],\n",
       "       [  82746],\n",
       "       [  84112],\n",
       "       [  86011],\n",
       "       [  88369],\n",
       "       [  90306],\n",
       "       [  92840],\n",
       "       [  95120],\n",
       "       [  97886],\n",
       "       [ 101801],\n",
       "       [ 105847],\n",
       "       [ 109821],\n",
       "       [ 113590],\n",
       "       [ 118620],\n",
       "       [ 125875],\n",
       "       [ 128352],\n",
       "       [ 145205],\n",
       "       [ 156101],\n",
       "       [ 167454],\n",
       "       [ 181574],\n",
       "       [ 197102],\n",
       "       [ 214821],\n",
       "       [ 242570],\n",
       "       [ 272208],\n",
       "       [ 304507],\n",
       "       [ 336953],\n",
       "       [ 378231],\n",
       "       [ 418041],\n",
       "       [ 467653],\n",
       "       [ 529591],\n",
       "       [ 593291],\n",
       "       [ 660693],\n",
       "       [ 720140],\n",
       "       [ 782389],\n",
       "       [ 857487],\n",
       "       [ 932475],\n",
       "       [1013326],\n",
       "       [1095698],\n",
       "       [1175857],\n",
       "       [1249484],\n",
       "       [1321131],\n",
       "       [1396092],\n",
       "       [1479804],\n",
       "       [1565278],\n",
       "       [1657526],\n",
       "       [1735650],\n",
       "       [1834721],\n",
       "       [1904838],\n",
       "       [1976191],\n",
       "       [2056054],\n",
       "       [2152437],\n",
       "       [2240190],\n",
       "       [2317758],\n",
       "       [2401101],\n",
       "       [2472258],\n",
       "       [2549293],\n",
       "       [2623413]], dtype=int64)"
      ]
     },
     "execution_count": 18,
     "metadata": {},
     "output_type": "execute_result"
    }
   ],
   "source": [
    "world_cases"
   ]
  },
  {
   "cell_type": "code",
   "execution_count": 19,
   "metadata": {},
   "outputs": [
    {
     "data": {
      "text/plain": [
       "array([[    17],\n",
       "       [    18],\n",
       "       [    26],\n",
       "       [    42],\n",
       "       [    56],\n",
       "       [    82],\n",
       "       [   131],\n",
       "       [   133],\n",
       "       [   171],\n",
       "       [   213],\n",
       "       [   259],\n",
       "       [   362],\n",
       "       [   426],\n",
       "       [   492],\n",
       "       [   564],\n",
       "       [   634],\n",
       "       [   719],\n",
       "       [   806],\n",
       "       [   906],\n",
       "       [  1013],\n",
       "       [  1113],\n",
       "       [  1118],\n",
       "       [  1371],\n",
       "       [  1523],\n",
       "       [  1666],\n",
       "       [  1770],\n",
       "       [  1868],\n",
       "       [  2007],\n",
       "       [  2122],\n",
       "       [  2247],\n",
       "       [  2251],\n",
       "       [  2458],\n",
       "       [  2469],\n",
       "       [  2629],\n",
       "       [  2708],\n",
       "       [  2770],\n",
       "       [  2814],\n",
       "       [  2872],\n",
       "       [  2941],\n",
       "       [  2996],\n",
       "       [  3085],\n",
       "       [  3160],\n",
       "       [  3254],\n",
       "       [  3348],\n",
       "       [  3460],\n",
       "       [  3558],\n",
       "       [  3802],\n",
       "       [  3988],\n",
       "       [  4262],\n",
       "       [  4615],\n",
       "       [  4720],\n",
       "       [  5404],\n",
       "       [  5819],\n",
       "       [  6440],\n",
       "       [  7126],\n",
       "       [  7905],\n",
       "       [  8733],\n",
       "       [  9867],\n",
       "       [ 11299],\n",
       "       [ 12973],\n",
       "       [ 14651],\n",
       "       [ 16505],\n",
       "       [ 18625],\n",
       "       [ 21181],\n",
       "       [ 23970],\n",
       "       [ 27198],\n",
       "       [ 30652],\n",
       "       [ 33925],\n",
       "       [ 37582],\n",
       "       [ 42108],\n",
       "       [ 47183],\n",
       "       [ 52986],\n",
       "       [ 58790],\n",
       "       [ 64607],\n",
       "       [ 69374],\n",
       "       [ 74565],\n",
       "       [ 81937],\n",
       "       [ 88347],\n",
       "       [ 95521],\n",
       "       [102534],\n",
       "       [108511],\n",
       "       [114100],\n",
       "       [119491],\n",
       "       [125995],\n",
       "       [134189],\n",
       "       [143814],\n",
       "       [153835],\n",
       "       [159509],\n",
       "       [165043],\n",
       "       [169985],\n",
       "       [176582],\n",
       "       [183025]], dtype=int64)"
      ]
     },
     "execution_count": 19,
     "metadata": {},
     "output_type": "execute_result"
    }
   ],
   "source": [
    "total_deaths"
   ]
  },
  {
   "cell_type": "markdown",
   "metadata": {},
   "source": [
    "### Converting data arrays\n",
    "\n",
    "Here we initialse the arrays from the input data and convert it to required formats, calculate total cases by Country/Region then by state or province.\n",
    "\n",
    "After that, we visualise the data by sorting it, and plotting charts and graphs using matplotlib"
   ]
  },
  {
   "cell_type": "code",
   "execution_count": 20,
   "metadata": {},
   "outputs": [],
   "source": [
    "#future prediciton for let's say 10 days\n",
    "\n",
    "future_days = 10\n",
    "future_prediction = np.array([i for i in range(len(dates)+future_days)]).reshape(-1,1)"
   ]
  },
  {
   "cell_type": "markdown",
   "metadata": {},
   "source": [
    "future_prediction contains 82 +10 = 92 days now."
   ]
  },
  {
   "cell_type": "code",
   "execution_count": 21,
   "metadata": {},
   "outputs": [],
   "source": [
    "#converting integers to datetime format\n",
    "\n",
    "start = '1/22/2020'\n",
    "start_date = datetime.datetime.strptime(start, '%m/%d/%Y')\n",
    "future_predict_dates = []\n",
    "\n",
    "for i in range(len(future_prediction)):\n",
    "    future_predict_dates.append((start_date + datetime.timedelta(days=i)).strftime('%m/%d/%Y'))"
   ]
  },
  {
   "cell_type": "code",
   "execution_count": 22,
   "metadata": {},
   "outputs": [],
   "source": [
    "#latest entries of each type of data\n",
    "latest_confirmed = confirmed_cases[dates[-1]]\n",
    "latest_deaths = deaths_reported[dates[-1]]\n",
    "latest_recoveries = recovered_cases[dates[-1]]"
   ]
  },
  {
   "cell_type": "code",
   "execution_count": 23,
   "metadata": {},
   "outputs": [
    {
     "data": {
      "text/plain": [
       "0      1176\n",
       "1       634\n",
       "2      2910\n",
       "3       723\n",
       "4        25\n",
       "       ... \n",
       "259       1\n",
       "260       4\n",
       "261       6\n",
       "262       4\n",
       "263       1\n",
       "Name: 4/22/20, Length: 264, dtype: int64"
      ]
     },
     "execution_count": 23,
     "metadata": {},
     "output_type": "execute_result"
    }
   ],
   "source": [
    "latest_confirmed"
   ]
  },
  {
   "cell_type": "code",
   "execution_count": 24,
   "metadata": {},
   "outputs": [
    {
     "data": {
      "text/plain": [
       "0       40\n",
       "1       27\n",
       "2      402\n",
       "3       37\n",
       "4        2\n",
       "      ... \n",
       "259      0\n",
       "260      0\n",
       "261      0\n",
       "262      0\n",
       "263      0\n",
       "Name: 4/22/20, Length: 264, dtype: int64"
      ]
     },
     "execution_count": 24,
     "metadata": {},
     "output_type": "execute_result"
    }
   ],
   "source": [
    "latest_deaths"
   ]
  },
  {
   "cell_type": "code",
   "execution_count": 25,
   "metadata": {},
   "outputs": [
    {
     "data": {
      "text/plain": [
       "0       166\n",
       "1       356\n",
       "2      1204\n",
       "3       309\n",
       "4         6\n",
       "       ... \n",
       "245       0\n",
       "246       0\n",
       "247       0\n",
       "248       0\n",
       "249       0\n",
       "Name: 4/22/20, Length: 250, dtype: int64"
      ]
     },
     "execution_count": 25,
     "metadata": {},
     "output_type": "execute_result"
    }
   ],
   "source": [
    "latest_recoveries"
   ]
  },
  {
   "cell_type": "code",
   "execution_count": 26,
   "metadata": {},
   "outputs": [
    {
     "data": {
      "text/plain": [
       "['Afghanistan',\n",
       " 'Albania',\n",
       " 'Algeria',\n",
       " 'Andorra',\n",
       " 'Angola',\n",
       " 'Antigua and Barbuda',\n",
       " 'Argentina',\n",
       " 'Armenia',\n",
       " 'Australia',\n",
       " 'Austria',\n",
       " 'Azerbaijan',\n",
       " 'Bahamas',\n",
       " 'Bahrain',\n",
       " 'Bangladesh',\n",
       " 'Barbados',\n",
       " 'Belarus',\n",
       " 'Belgium',\n",
       " 'Benin',\n",
       " 'Bhutan',\n",
       " 'Bolivia',\n",
       " 'Bosnia and Herzegovina',\n",
       " 'Brazil',\n",
       " 'Brunei',\n",
       " 'Bulgaria',\n",
       " 'Burkina Faso',\n",
       " 'Cabo Verde',\n",
       " 'Cambodia',\n",
       " 'Cameroon',\n",
       " 'Canada',\n",
       " 'Central African Republic',\n",
       " 'Chad',\n",
       " 'Chile',\n",
       " 'China',\n",
       " 'Colombia',\n",
       " 'Congo (Brazzaville)',\n",
       " 'Congo (Kinshasa)',\n",
       " 'Costa Rica',\n",
       " \"Cote d'Ivoire\",\n",
       " 'Croatia',\n",
       " 'Diamond Princess',\n",
       " 'Cuba',\n",
       " 'Cyprus',\n",
       " 'Czechia',\n",
       " 'Denmark',\n",
       " 'Djibouti',\n",
       " 'Dominican Republic',\n",
       " 'Ecuador',\n",
       " 'Egypt',\n",
       " 'El Salvador',\n",
       " 'Equatorial Guinea',\n",
       " 'Eritrea',\n",
       " 'Estonia',\n",
       " 'Eswatini',\n",
       " 'Ethiopia',\n",
       " 'Fiji',\n",
       " 'Finland',\n",
       " 'France',\n",
       " 'Gabon',\n",
       " 'Gambia',\n",
       " 'Georgia',\n",
       " 'Germany',\n",
       " 'Ghana',\n",
       " 'Greece',\n",
       " 'Guatemala',\n",
       " 'Guinea',\n",
       " 'Guyana',\n",
       " 'Haiti',\n",
       " 'Holy See',\n",
       " 'Honduras',\n",
       " 'Hungary',\n",
       " 'Iceland',\n",
       " 'India',\n",
       " 'Indonesia',\n",
       " 'Iran',\n",
       " 'Iraq',\n",
       " 'Ireland',\n",
       " 'Israel',\n",
       " 'Italy',\n",
       " 'Jamaica',\n",
       " 'Japan',\n",
       " 'Jordan',\n",
       " 'Kazakhstan',\n",
       " 'Kenya',\n",
       " 'Korea, South',\n",
       " 'Kuwait',\n",
       " 'Kyrgyzstan',\n",
       " 'Latvia',\n",
       " 'Lebanon',\n",
       " 'Liberia',\n",
       " 'Liechtenstein',\n",
       " 'Lithuania',\n",
       " 'Luxembourg',\n",
       " 'Madagascar',\n",
       " 'Malaysia',\n",
       " 'Maldives',\n",
       " 'Malta',\n",
       " 'Mauritania',\n",
       " 'Mauritius',\n",
       " 'Mexico',\n",
       " 'Moldova',\n",
       " 'Monaco',\n",
       " 'Mongolia',\n",
       " 'Montenegro',\n",
       " 'Morocco',\n",
       " 'Namibia',\n",
       " 'Nepal',\n",
       " 'Netherlands',\n",
       " 'New Zealand',\n",
       " 'Nicaragua',\n",
       " 'Niger',\n",
       " 'Nigeria',\n",
       " 'North Macedonia',\n",
       " 'Norway',\n",
       " 'Oman',\n",
       " 'Pakistan',\n",
       " 'Panama',\n",
       " 'Papua New Guinea',\n",
       " 'Paraguay',\n",
       " 'Peru',\n",
       " 'Philippines',\n",
       " 'Poland',\n",
       " 'Portugal',\n",
       " 'Qatar',\n",
       " 'Romania',\n",
       " 'Russia',\n",
       " 'Rwanda',\n",
       " 'Saint Lucia',\n",
       " 'Saint Vincent and the Grenadines',\n",
       " 'San Marino',\n",
       " 'Saudi Arabia',\n",
       " 'Senegal',\n",
       " 'Serbia',\n",
       " 'Seychelles',\n",
       " 'Singapore',\n",
       " 'Slovakia',\n",
       " 'Slovenia',\n",
       " 'Somalia',\n",
       " 'South Africa',\n",
       " 'Spain',\n",
       " 'Sri Lanka',\n",
       " 'Sudan',\n",
       " 'Suriname',\n",
       " 'Sweden',\n",
       " 'Switzerland',\n",
       " 'Taiwan*',\n",
       " 'Tanzania',\n",
       " 'Thailand',\n",
       " 'Togo',\n",
       " 'Trinidad and Tobago',\n",
       " 'Tunisia',\n",
       " 'Turkey',\n",
       " 'Uganda',\n",
       " 'Ukraine',\n",
       " 'United Arab Emirates',\n",
       " 'United Kingdom',\n",
       " 'Uruguay',\n",
       " 'US',\n",
       " 'Uzbekistan',\n",
       " 'Venezuela',\n",
       " 'Vietnam',\n",
       " 'Zambia',\n",
       " 'Zimbabwe',\n",
       " 'Dominica',\n",
       " 'Grenada',\n",
       " 'Mozambique',\n",
       " 'Syria',\n",
       " 'Timor-Leste',\n",
       " 'Belize',\n",
       " 'Laos',\n",
       " 'Libya',\n",
       " 'West Bank and Gaza',\n",
       " 'Guinea-Bissau',\n",
       " 'Mali',\n",
       " 'Saint Kitts and Nevis',\n",
       " 'Kosovo',\n",
       " 'Burma',\n",
       " 'MS Zaandam',\n",
       " 'Botswana',\n",
       " 'Burundi',\n",
       " 'Sierra Leone',\n",
       " 'Malawi',\n",
       " 'South Sudan',\n",
       " 'Western Sahara',\n",
       " 'Sao Tome and Principe',\n",
       " 'Yemen']"
      ]
     },
     "execution_count": 26,
     "metadata": {},
     "output_type": "execute_result"
    }
   ],
   "source": [
    "#finding unique cases\n",
    "\n",
    "unique_countries = list(confirmed_cases['Country/Region'].unique())\n",
    "unique_countries"
   ]
  },
  {
   "cell_type": "code",
   "execution_count": 27,
   "metadata": {},
   "outputs": [],
   "source": [
    "#Calculating total number of confirmed cases per country:\n",
    "\n",
    "country_confirmed_cases = []\n",
    "no_cases = []\n",
    "for i in unique_countries:\n",
    "    cases = latest_confirmed[confirmed_cases['Country/Region']==i].sum()\n",
    "    if cases > 0:\n",
    "        country_confirmed_cases.append(cases)\n",
    "    else:\n",
    "        no_cases.append(i)"
   ]
  },
  {
   "cell_type": "code",
   "execution_count": 28,
   "metadata": {},
   "outputs": [
    {
     "name": "stdout",
     "output_type": "stream",
     "text": [
      "Confirmed Cases by Country/Regions: \n",
      "Afghanistan: 1176 cases\n",
      "Albania: 634 cases\n",
      "Algeria: 2910 cases\n",
      "Andorra: 723 cases\n",
      "Angola: 25 cases\n",
      "Antigua and Barbuda: 24 cases\n",
      "Argentina: 3144 cases\n",
      "Armenia: 1473 cases\n",
      "Australia: 6547 cases\n",
      "Austria: 14925 cases\n",
      "Azerbaijan: 1518 cases\n",
      "Bahamas: 65 cases\n",
      "Bahrain: 2027 cases\n",
      "Bangladesh: 3772 cases\n",
      "Barbados: 75 cases\n",
      "Belarus: 7281 cases\n",
      "Belgium: 41889 cases\n",
      "Benin: 54 cases\n",
      "Bhutan: 6 cases\n",
      "Bolivia: 609 cases\n",
      "Bosnia and Herzegovina: 1368 cases\n",
      "Brazil: 45757 cases\n",
      "Brunei: 138 cases\n",
      "Bulgaria: 1024 cases\n",
      "Burkina Faso: 609 cases\n",
      "Cabo Verde: 73 cases\n",
      "Cambodia: 122 cases\n",
      "Cameroon: 1163 cases\n",
      "Canada: 41648 cases\n",
      "Central African Republic: 14 cases\n",
      "Chad: 33 cases\n",
      "Chile: 11296 cases\n",
      "China: 83868 cases\n",
      "Colombia: 4356 cases\n",
      "Congo (Brazzaville): 186 cases\n",
      "Congo (Kinshasa): 359 cases\n",
      "Costa Rica: 681 cases\n",
      "Cote d'Ivoire: 952 cases\n",
      "Croatia: 1950 cases\n",
      "Diamond Princess: 712 cases\n",
      "Cuba: 1189 cases\n",
      "Cyprus: 790 cases\n",
      "Czechia: 7132 cases\n",
      "Denmark: 8108 cases\n",
      "Djibouti: 974 cases\n",
      "Dominican Republic: 5300 cases\n",
      "Ecuador: 10850 cases\n",
      "Egypt: 3659 cases\n",
      "El Salvador: 237 cases\n",
      "Equatorial Guinea: 84 cases\n",
      "Eritrea: 39 cases\n",
      "Estonia: 1559 cases\n",
      "Eswatini: 31 cases\n",
      "Ethiopia: 116 cases\n",
      "Fiji: 18 cases\n",
      "Finland: 4129 cases\n",
      "France: 157125 cases\n",
      "Gabon: 166 cases\n",
      "Gambia: 10 cases\n",
      "Georgia: 416 cases\n",
      "Germany: 150648 cases\n",
      "Ghana: 1154 cases\n",
      "Greece: 2408 cases\n",
      "Guatemala: 316 cases\n",
      "Guinea: 761 cases\n",
      "Guyana: 67 cases\n",
      "Haiti: 62 cases\n",
      "Holy See: 9 cases\n",
      "Honduras: 510 cases\n",
      "Hungary: 2168 cases\n",
      "Iceland: 1785 cases\n",
      "India: 21370 cases\n",
      "Indonesia: 7418 cases\n",
      "Iran: 85996 cases\n",
      "Iraq: 1631 cases\n",
      "Ireland: 16671 cases\n",
      "Israel: 14498 cases\n",
      "Italy: 187327 cases\n",
      "Jamaica: 233 cases\n",
      "Japan: 11512 cases\n",
      "Jordan: 435 cases\n",
      "Kazakhstan: 2135 cases\n",
      "Kenya: 303 cases\n",
      "Korea, South: 10694 cases\n",
      "Kuwait: 2248 cases\n",
      "Kyrgyzstan: 612 cases\n",
      "Latvia: 761 cases\n",
      "Lebanon: 682 cases\n",
      "Liberia: 101 cases\n",
      "Liechtenstein: 81 cases\n",
      "Lithuania: 1370 cases\n",
      "Luxembourg: 3654 cases\n",
      "Madagascar: 121 cases\n",
      "Malaysia: 5532 cases\n",
      "Maldives: 86 cases\n",
      "Malta: 444 cases\n",
      "Mauritania: 7 cases\n",
      "Mauritius: 329 cases\n",
      "Mexico: 9501 cases\n",
      "Moldova: 2778 cases\n",
      "Monaco: 94 cases\n",
      "Mongolia: 35 cases\n",
      "Montenegro: 315 cases\n",
      "Morocco: 3446 cases\n",
      "Namibia: 16 cases\n",
      "Nepal: 45 cases\n",
      "Netherlands: 35032 cases\n",
      "New Zealand: 1451 cases\n",
      "Nicaragua: 10 cases\n",
      "Niger: 662 cases\n",
      "Nigeria: 873 cases\n",
      "North Macedonia: 1259 cases\n",
      "Norway: 7338 cases\n",
      "Oman: 1614 cases\n",
      "Pakistan: 10076 cases\n",
      "Panama: 4821 cases\n",
      "Papua New Guinea: 8 cases\n",
      "Paraguay: 213 cases\n",
      "Peru: 19250 cases\n",
      "Philippines: 6710 cases\n",
      "Poland: 10169 cases\n",
      "Portugal: 21982 cases\n",
      "Qatar: 7141 cases\n",
      "Romania: 9710 cases\n",
      "Russia: 57999 cases\n",
      "Rwanda: 153 cases\n",
      "Saint Lucia: 15 cases\n",
      "Saint Vincent and the Grenadines: 13 cases\n",
      "San Marino: 488 cases\n",
      "Saudi Arabia: 12772 cases\n",
      "Senegal: 442 cases\n",
      "Serbia: 6630 cases\n",
      "Seychelles: 11 cases\n",
      "Singapore: 10141 cases\n",
      "Slovakia: 1244 cases\n",
      "Slovenia: 1353 cases\n",
      "Somalia: 286 cases\n",
      "South Africa: 3635 cases\n",
      "Spain: 208389 cases\n",
      "Sri Lanka: 330 cases\n",
      "Sudan: 140 cases\n",
      "Suriname: 10 cases\n",
      "Sweden: 16004 cases\n",
      "Switzerland: 28268 cases\n",
      "Taiwan*: 426 cases\n",
      "Tanzania: 284 cases\n",
      "Thailand: 2826 cases\n",
      "Togo: 88 cases\n",
      "Trinidad and Tobago: 115 cases\n",
      "Tunisia: 909 cases\n",
      "Turkey: 98674 cases\n",
      "Uganda: 63 cases\n",
      "Ukraine: 6592 cases\n",
      "United Arab Emirates: 8238 cases\n",
      "United Kingdom: 134638 cases\n",
      "Uruguay: 543 cases\n",
      "US: 839675 cases\n",
      "Uzbekistan: 1716 cases\n",
      "Venezuela: 288 cases\n",
      "Vietnam: 268 cases\n",
      "Zambia: 74 cases\n",
      "Zimbabwe: 28 cases\n",
      "Dominica: 16 cases\n",
      "Grenada: 15 cases\n",
      "Mozambique: 41 cases\n",
      "Syria: 42 cases\n",
      "Timor-Leste: 23 cases\n",
      "Belize: 18 cases\n",
      "Laos: 19 cases\n",
      "Libya: 59 cases\n",
      "West Bank and Gaza: 474 cases\n",
      "Guinea-Bissau: 50 cases\n",
      "Mali: 293 cases\n",
      "Saint Kitts and Nevis: 15 cases\n",
      "Kosovo: 510 cases\n",
      "Burma: 123 cases\n",
      "MS Zaandam: 9 cases\n",
      "Botswana: 22 cases\n",
      "Burundi: 11 cases\n",
      "Sierra Leone: 61 cases\n",
      "Malawi: 23 cases\n",
      "South Sudan: 4 cases\n",
      "Western Sahara: 6 cases\n",
      "Sao Tome and Principe: 4 cases\n",
      "Yemen: 1 cases\n"
     ]
    }
   ],
   "source": [
    "#Calculating confirmed cases per C0untry/Region\n",
    "\n",
    "print('Confirmed Cases by Country/Regions: ')\n",
    "for i in range(len(unique_countries)):\n",
    "    print(f'{unique_countries[i]}: {country_confirmed_cases[i]} cases')"
   ]
  },
  {
   "cell_type": "code",
   "execution_count": 29,
   "metadata": {},
   "outputs": [
    {
     "data": {
      "text/plain": [
       "\"\\noutliers = ['United Kingdom', 'Denmark', 'France']\\nfor i in outliers:\\n    print(i)\\n    unique_states.remove(i)\\n\""
      ]
     },
     "execution_count": 29,
     "metadata": {},
     "output_type": "execute_result"
    }
   ],
   "source": [
    "#Again, making a list of unique provinces/states\n",
    "\n",
    "unique_states = list(confirmed_cases['Province/State'].unique())\n",
    "#Countries which are not provinces or states\n",
    "\n",
    "\"\"\"\n",
    "outliers = ['United Kingdom', 'Denmark', 'France']\n",
    "for i in outliers:\n",
    "    print(i)\n",
    "    unique_states.remove(i)\n",
    "\"\"\""
   ]
  },
  {
   "cell_type": "code",
   "execution_count": 30,
   "metadata": {},
   "outputs": [],
   "source": [
    "states_confirmed_cases = []\n",
    "no_cases = []\n",
    "\n",
    "for i in unique_states:\n",
    "    cases = latest_confirmed[confirmed_cases['Province/State']==i].sum()\n",
    "    if cases > 0:\n",
    "        states_confirmed_cases.append(cases)\n",
    "    else:\n",
    "        no_cases.append(i)\n",
    "        \n",
    "for i in no_cases:\n",
    "    unique_states.remove(i)        "
   ]
  },
  {
   "cell_type": "code",
   "execution_count": 31,
   "metadata": {},
   "outputs": [
    {
     "name": "stdout",
     "output_type": "stream",
     "text": [
      "Australian Capital Territory: 103 cases\n",
      "New South Wales: 2926 cases\n",
      "Northern Territory: 28 cases\n",
      "Queensland: 1015 cases\n",
      "South Australia: 435 cases\n",
      "Tasmania: 180 cases\n",
      "Victoria: 1319 cases\n",
      "Western Australia: 541 cases\n",
      "Alberta: 3401 cases\n",
      "British Columbia: 1795 cases\n",
      "Manitoba: 257 cases\n",
      "New Brunswick: 118 cases\n",
      "Newfoundland and Labrador: 256 cases\n",
      "Nova Scotia: 772 cases\n",
      "Ontario: 13718 cases\n",
      "Prince Edward Island: 26 cases\n",
      "Quebec: 20965 cases\n",
      "Saskatchewan: 326 cases\n",
      "Anhui: 991 cases\n",
      "Beijing: 593 cases\n",
      "Chongqing: 579 cases\n",
      "Fujian: 355 cases\n",
      "Gansu: 139 cases\n",
      "Guangdong: 1582 cases\n",
      "Guangxi: 254 cases\n",
      "Guizhou: 147 cases\n",
      "Hainan: 168 cases\n",
      "Hebei: 328 cases\n",
      "Heilongjiang: 921 cases\n",
      "Henan: 1276 cases\n",
      "Hong Kong: 1033 cases\n",
      "Hubei: 68128 cases\n",
      "Hunan: 1019 cases\n",
      "Inner Mongolia: 194 cases\n",
      "Jiangsu: 653 cases\n",
      "Jiangxi: 937 cases\n",
      "Jilin: 106 cases\n",
      "Liaoning: 146 cases\n",
      "Macau: 45 cases\n",
      "Ningxia: 75 cases\n",
      "Qinghai: 18 cases\n",
      "Shaanxi: 279 cases\n",
      "Shandong: 787 cases\n",
      "Shanghai: 639 cases\n",
      "Shanxi: 197 cases\n",
      "Sichuan: 561 cases\n",
      "Tianjin: 189 cases\n",
      "Tibet: 1 cases\n",
      "Xinjiang: 76 cases\n",
      "Yunnan: 184 cases\n",
      "Zhejiang: 1268 cases\n",
      "Faroe Islands: 185 cases\n",
      "Greenland: 11 cases\n",
      "French Guiana: 97 cases\n",
      "French Polynesia: 57 cases\n",
      "Guadeloupe: 148 cases\n",
      "Mayotte: 326 cases\n",
      "New Caledonia: 18 cases\n",
      "Reunion: 410 cases\n",
      "Saint Barthelemy: 6 cases\n",
      "St Martin: 38 cases\n",
      "Martinique: 164 cases\n",
      "Aruba: 100 cases\n",
      "Curacao: 14 cases\n",
      "Sint Maarten: 71 cases\n",
      "Bermuda: 99 cases\n",
      "Cayman Islands: 66 cases\n",
      "Channel Islands: 498 cases\n",
      "Gibraltar: 132 cases\n",
      "Isle of Man: 307 cases\n",
      "Montserrat: 11 cases\n",
      "Northwest Territories: 5 cases\n",
      "Yukon: 11 cases\n",
      "Anguilla: 3 cases\n",
      "British Virgin Islands: 5 cases\n",
      "Turks and Caicos Islands: 11 cases\n",
      "Bonaire, Sint Eustatius and Saba: 5 cases\n",
      "Falkland Islands (Malvinas): 11 cases\n",
      "Saint Pierre and Miquelon: 1 cases\n"
     ]
    }
   ],
   "source": [
    "#Number of cases per province / state / city:\n",
    "\n",
    "for i in range(len(unique_states)):\n",
    "    print(f'{unique_states[i]}: {states_confirmed_cases[i]} cases')"
   ]
  },
  {
   "cell_type": "code",
   "execution_count": 32,
   "metadata": {},
   "outputs": [],
   "source": [
    "#We note there are some nan Values. \n",
    "\n",
    "nan_indices = []\n",
    "\n",
    "for i in range(len(unique_states)):\n",
    "    if type(unique_states[i]) == float:\n",
    "        nan_indices.append(i)\n",
    "        \n",
    "unique_states = list(unique_states)\n",
    "states_confirmed_cases = list(states_confirmed_cases)\n",
    "\n",
    "for i in nan_indices:\n",
    "    unique_states.pop(i)\n",
    "    states_confirmed_cases.pop(i)"
   ]
  },
  {
   "cell_type": "code",
   "execution_count": 33,
   "metadata": {},
   "outputs": [
    {
     "data": {
      "image/png": "[encoded data removed]",
      "text/plain": [
       "<Figure size 2304x2304 with 1 Axes>"
      ]
     },
     "metadata": {
      "needs_background": "light"
     },
     "output_type": "display_data"
    }
   ],
   "source": [
    "#Bar Graph of Total confirmed cases across different countries:\n",
    "\n",
    "plt.figure(figsize=(32,32))\n",
    "plt.barh(unique_countries, country_confirmed_cases)\n",
    "plt.title('Country-wise split of number of Confirmed COVID-19 cases')\n",
    "plt.xlabel('Number of COVID-19 Confirmed Cases')\n",
    "plt.show()"
   ]
  },
  {
   "cell_type": "markdown",
   "metadata": {},
   "source": [
    "Note : Recent report and the above graph represents how worse the situation is in the United States.\n",
    "\n",
    "So, let's compare the total cases in US vs Rest of the world "
   ]
  },
  {
   "cell_type": "code",
   "execution_count": 34,
   "metadata": {},
   "outputs": [
    {
     "data": {
      "image/png": "[encoded data removed]",
      "text/plain": [
       "<Figure size 1152x648 with 1 Axes>"
      ]
     },
     "metadata": {
      "needs_background": "light"
     },
     "output_type": "display_data"
    }
   ],
   "source": [
    "#COmparison of total confirmed cases in US, India and elsewhere\n",
    "\n",
    "china_confirmed = latest_confirmed[confirmed_cases['Country/Region']=='China'].sum()\n",
    "us_confirmed = latest_confirmed[confirmed_cases['Country/Region']=='US'].sum()\n",
    "india_confirmed = latest_confirmed[confirmed_cases['Country/Region']=='India'].sum()\n",
    "rest_world_confirmed = np.sum(country_confirmed_cases) - us_confirmed - india_confirmed - china_confirmed\n",
    "\n",
    "plt.figure(figsize = (16,9))\n",
    "plt.barh('Rest of the World', rest_world_confirmed)\n",
    "plt.barh('US', us_confirmed)\n",
    "plt.barh('China', china_confirmed)\n",
    "plt.barh('India', india_confirmed)\n",
    "plt.title('Number of Confirmed COVID-19 cases')\n",
    "plt.show()"
   ]
  },
  {
   "cell_type": "code",
   "execution_count": 35,
   "metadata": {},
   "outputs": [
    {
     "name": "stdout",
     "output_type": "stream",
     "text": [
      "Total cases confirmed Country wise: \n",
      "\n",
      "India: 21370\n",
      "\n",
      "China: 83868\n",
      "\n",
      "US: 839675\n",
      "\n",
      "Rest of the World: 1678500\n",
      "\n"
     ]
    }
   ],
   "source": [
    "print(\"Total cases confirmed Country wise: \\n\")\n",
    "print(\"India: \" + str(india_confirmed) + \"\\n\")\n",
    "print(\"China: \" + str(china_confirmed) + \"\\n\")\n",
    "print(\"US: \" + str(us_confirmed) + \"\\n\")\n",
    "print(\"Rest of the World: \" + str(rest_world_confirmed) + \"\\n\")"
   ]
  },
  {
   "cell_type": "code",
   "execution_count": 36,
   "metadata": {},
   "outputs": [
    {
     "data": {
      "text/html": [
       "<div>\n",
       "<style scoped>\n",
       "    .dataframe tbody tr th:only-of-type {\n",
       "        vertical-align: middle;\n",
       "    }\n",
       "\n",
       "    .dataframe tbody tr th {\n",
       "        vertical-align: top;\n",
       "    }\n",
       "\n",
       "    .dataframe thead th {\n",
       "        text-align: right;\n",
       "    }\n",
       "</style>\n",
       "<table border=\"1\" class=\"dataframe\">\n",
       "  <thead>\n",
       "    <tr style=\"text-align: right;\">\n",
       "      <th></th>\n",
       "      <th>Countries</th>\n",
       "      <th>Confirmed Cases</th>\n",
       "    </tr>\n",
       "  </thead>\n",
       "  <tbody>\n",
       "    <tr>\n",
       "      <td>156</td>\n",
       "      <td>US</td>\n",
       "      <td>839675</td>\n",
       "    </tr>\n",
       "    <tr>\n",
       "      <td>138</td>\n",
       "      <td>Spain</td>\n",
       "      <td>208389</td>\n",
       "    </tr>\n",
       "    <tr>\n",
       "      <td>77</td>\n",
       "      <td>Italy</td>\n",
       "      <td>187327</td>\n",
       "    </tr>\n",
       "    <tr>\n",
       "      <td>56</td>\n",
       "      <td>France</td>\n",
       "      <td>157125</td>\n",
       "    </tr>\n",
       "    <tr>\n",
       "      <td>60</td>\n",
       "      <td>Germany</td>\n",
       "      <td>150648</td>\n",
       "    </tr>\n",
       "    <tr>\n",
       "      <td>154</td>\n",
       "      <td>United Kingdom</td>\n",
       "      <td>134638</td>\n",
       "    </tr>\n",
       "    <tr>\n",
       "      <td>150</td>\n",
       "      <td>Turkey</td>\n",
       "      <td>98674</td>\n",
       "    </tr>\n",
       "    <tr>\n",
       "      <td>73</td>\n",
       "      <td>Iran</td>\n",
       "      <td>85996</td>\n",
       "    </tr>\n",
       "    <tr>\n",
       "      <td>32</td>\n",
       "      <td>China</td>\n",
       "      <td>83868</td>\n",
       "    </tr>\n",
       "    <tr>\n",
       "      <td>124</td>\n",
       "      <td>Russia</td>\n",
       "      <td>57999</td>\n",
       "    </tr>\n",
       "  </tbody>\n",
       "</table>\n",
       "</div>"
      ],
      "text/plain": [
       "          Countries  Confirmed Cases\n",
       "156              US           839675\n",
       "138           Spain           208389\n",
       "77            Italy           187327\n",
       "56           France           157125\n",
       "60          Germany           150648\n",
       "154  United Kingdom           134638\n",
       "150          Turkey            98674\n",
       "73             Iran            85996\n",
       "32            China            83868\n",
       "124          Russia            57999"
      ]
     },
     "execution_count": 36,
     "metadata": {},
     "output_type": "execute_result"
    }
   ],
   "source": [
    "df = pd.DataFrame({\"Countries\":unique_countries,\n",
    "                  \"Confirmed Cases\":country_confirmed_cases})\n",
    "df_sorted= df.sort_values('Confirmed Cases',ascending=False)\n",
    "top_sorted = df_sorted[0:10]\n",
    "top_sorted"
   ]
  },
  {
   "cell_type": "code",
   "execution_count": 37,
   "metadata": {},
   "outputs": [],
   "source": [
    "#Showing top 10 countries with most Confirmed Cases\n",
    "\n",
    "top_unique_countries = []\n",
    "top_confirmed_cases = []\n",
    "others = np.sum(country_confirmed_cases[10:])\n",
    "\n",
    "for i in range(len(country_confirmed_cases[:10])):\n",
    "    top_unique_countries.append(unique_countries[i])\n",
    "    top_confirmed_cases.append(country_confirmed_cases[i])\n",
    "    \n",
    "top_unique_countries.append('Others')\n",
    "top_confirmed_cases.append(others)\n"
   ]
  },
  {
   "cell_type": "code",
   "execution_count": 38,
   "metadata": {},
   "outputs": [
    {
     "data": {
      "text/plain": [
       "Text(0.5, 1.0, 'Top 10 countries with Confirmed Cases')"
      ]
     },
     "execution_count": 38,
     "metadata": {},
     "output_type": "execute_result"
    },
    {
     "data": {
      "image/png": "[encoded data removed]",
      "text/plain": [
       "<Figure size 2304x1296 with 1 Axes>"
      ]
     },
     "metadata": {
      "needs_background": "light"
     },
     "output_type": "display_data"
    }
   ],
   "source": [
    "#Plotting the Top 10 countries:\n",
    "\n",
    "\n",
    "plt.figure(figsize=(32,18))\n",
    "# bar plot with matplotlib\n",
    "plt.barh('Countries', 'Confirmed Cases',data=top_sorted)\n",
    "plt.xlabel(\"Confirmed Cases\", size=30)\n",
    "plt.ylabel(\"Countries\", size=30)\n",
    "plt.title(\"Top 10 countries with Confirmed Cases\", size=18)"
   ]
  },
  {
   "cell_type": "code",
   "execution_count": 39,
   "metadata": {},
   "outputs": [
    {
     "data": {
      "text/plain": [
       "156    839675\n",
       "138    208389\n",
       "77     187327\n",
       "56     157125\n",
       "60     150648\n",
       "154    134638\n",
       "150     98674\n",
       "73      85996\n",
       "32      83868\n",
       "124     57999\n",
       "Name: Confirmed Cases, dtype: int64"
      ]
     },
     "execution_count": 39,
     "metadata": {},
     "output_type": "execute_result"
    }
   ],
   "source": [
    "top_sorted['Confirmed Cases']"
   ]
  },
  {
   "cell_type": "code",
   "execution_count": 40,
   "metadata": {
    "scrolled": true
   },
   "outputs": [
    {
     "data": {
      "image/png": "[encoded data removed]",
      "text/plain": [
       "<Figure size 1440x1440 with 1 Axes>"
      ]
     },
     "metadata": {},
     "output_type": "display_data"
    }
   ],
   "source": [
    "#Creating a Pie Chart\n",
    "\n",
    "c = random.choices(list(mcolors.CSS4_COLORS.values()), k = len(unique_countries))\n",
    "plt.figure(figsize=(20,20))\n",
    "plt.title('Country-wise Confirmed COVID-19 cases')\n",
    "plt.pie(top_sorted['Confirmed Cases'], colors = c)\n",
    "plt.legend(top_sorted['Countries'], loc='best')\n",
    "plt.show()"
   ]
  },
  {
   "cell_type": "code",
   "execution_count": 41,
   "metadata": {},
   "outputs": [
    {
     "data": {
      "text/plain": [
       "0      0\n",
       "1      1\n",
       "2      2\n",
       "3      3\n",
       "4      4\n",
       "      ..\n",
       "87    87\n",
       "88    88\n",
       "89    89\n",
       "90    90\n",
       "91    91\n",
       "Length: 92, dtype: int32"
      ]
     },
     "execution_count": 41,
     "metadata": {},
     "output_type": "execute_result"
    }
   ],
   "source": [
    "global_covid_plot=pd.Series(days_since_jan22.flatten())\n",
    "global_covid_plot\n"
   ]
  },
  {
   "cell_type": "code",
   "execution_count": 42,
   "metadata": {},
   "outputs": [],
   "source": [
    "global_covid_plot=global_covid_plot.to_frame()"
   ]
  },
  {
   "cell_type": "code",
   "execution_count": 43,
   "metadata": {},
   "outputs": [
    {
     "data": {
      "text/html": [
       "<div>\n",
       "<style scoped>\n",
       "    .dataframe tbody tr th:only-of-type {\n",
       "        vertical-align: middle;\n",
       "    }\n",
       "\n",
       "    .dataframe tbody tr th {\n",
       "        vertical-align: top;\n",
       "    }\n",
       "\n",
       "    .dataframe thead th {\n",
       "        text-align: right;\n",
       "    }\n",
       "</style>\n",
       "<table border=\"1\" class=\"dataframe\">\n",
       "  <thead>\n",
       "    <tr style=\"text-align: right;\">\n",
       "      <th></th>\n",
       "      <th>0</th>\n",
       "    </tr>\n",
       "  </thead>\n",
       "  <tbody>\n",
       "    <tr>\n",
       "      <td>0</td>\n",
       "      <td>0</td>\n",
       "    </tr>\n",
       "    <tr>\n",
       "      <td>1</td>\n",
       "      <td>1</td>\n",
       "    </tr>\n",
       "    <tr>\n",
       "      <td>2</td>\n",
       "      <td>2</td>\n",
       "    </tr>\n",
       "    <tr>\n",
       "      <td>3</td>\n",
       "      <td>3</td>\n",
       "    </tr>\n",
       "    <tr>\n",
       "      <td>4</td>\n",
       "      <td>4</td>\n",
       "    </tr>\n",
       "    <tr>\n",
       "      <td>...</td>\n",
       "      <td>...</td>\n",
       "    </tr>\n",
       "    <tr>\n",
       "      <td>87</td>\n",
       "      <td>87</td>\n",
       "    </tr>\n",
       "    <tr>\n",
       "      <td>88</td>\n",
       "      <td>88</td>\n",
       "    </tr>\n",
       "    <tr>\n",
       "      <td>89</td>\n",
       "      <td>89</td>\n",
       "    </tr>\n",
       "    <tr>\n",
       "      <td>90</td>\n",
       "      <td>90</td>\n",
       "    </tr>\n",
       "    <tr>\n",
       "      <td>91</td>\n",
       "      <td>91</td>\n",
       "    </tr>\n",
       "  </tbody>\n",
       "</table>\n",
       "<p>92 rows × 1 columns</p>\n",
       "</div>"
      ],
      "text/plain": [
       "     0\n",
       "0    0\n",
       "1    1\n",
       "2    2\n",
       "3    3\n",
       "4    4\n",
       "..  ..\n",
       "87  87\n",
       "88  88\n",
       "89  89\n",
       "90  90\n",
       "91  91\n",
       "\n",
       "[92 rows x 1 columns]"
      ]
     },
     "execution_count": 43,
     "metadata": {},
     "output_type": "execute_result"
    }
   ],
   "source": [
    "global_covid_plot"
   ]
  },
  {
   "cell_type": "code",
   "execution_count": 44,
   "metadata": {},
   "outputs": [],
   "source": [
    "global_covid_plot['world active cases']=pd.Series(world_cases.flatten())"
   ]
  },
  {
   "cell_type": "code",
   "execution_count": 45,
   "metadata": {
    "scrolled": true
   },
   "outputs": [
    {
     "data": {
      "text/html": [
       "<div>\n",
       "<style scoped>\n",
       "    .dataframe tbody tr th:only-of-type {\n",
       "        vertical-align: middle;\n",
       "    }\n",
       "\n",
       "    .dataframe tbody tr th {\n",
       "        vertical-align: top;\n",
       "    }\n",
       "\n",
       "    .dataframe thead th {\n",
       "        text-align: right;\n",
       "    }\n",
       "</style>\n",
       "<table border=\"1\" class=\"dataframe\">\n",
       "  <thead>\n",
       "    <tr style=\"text-align: right;\">\n",
       "      <th></th>\n",
       "      <th>0</th>\n",
       "      <th>world active cases</th>\n",
       "    </tr>\n",
       "  </thead>\n",
       "  <tbody>\n",
       "    <tr>\n",
       "      <td>0</td>\n",
       "      <td>0</td>\n",
       "      <td>555</td>\n",
       "    </tr>\n",
       "    <tr>\n",
       "      <td>1</td>\n",
       "      <td>1</td>\n",
       "      <td>654</td>\n",
       "    </tr>\n",
       "    <tr>\n",
       "      <td>2</td>\n",
       "      <td>2</td>\n",
       "      <td>941</td>\n",
       "    </tr>\n",
       "    <tr>\n",
       "      <td>3</td>\n",
       "      <td>3</td>\n",
       "      <td>1434</td>\n",
       "    </tr>\n",
       "    <tr>\n",
       "      <td>4</td>\n",
       "      <td>4</td>\n",
       "      <td>2118</td>\n",
       "    </tr>\n",
       "    <tr>\n",
       "      <td>...</td>\n",
       "      <td>...</td>\n",
       "      <td>...</td>\n",
       "    </tr>\n",
       "    <tr>\n",
       "      <td>87</td>\n",
       "      <td>87</td>\n",
       "      <td>2317758</td>\n",
       "    </tr>\n",
       "    <tr>\n",
       "      <td>88</td>\n",
       "      <td>88</td>\n",
       "      <td>2401101</td>\n",
       "    </tr>\n",
       "    <tr>\n",
       "      <td>89</td>\n",
       "      <td>89</td>\n",
       "      <td>2472258</td>\n",
       "    </tr>\n",
       "    <tr>\n",
       "      <td>90</td>\n",
       "      <td>90</td>\n",
       "      <td>2549293</td>\n",
       "    </tr>\n",
       "    <tr>\n",
       "      <td>91</td>\n",
       "      <td>91</td>\n",
       "      <td>2623413</td>\n",
       "    </tr>\n",
       "  </tbody>\n",
       "</table>\n",
       "<p>92 rows × 2 columns</p>\n",
       "</div>"
      ],
      "text/plain": [
       "     0  world active cases\n",
       "0    0                 555\n",
       "1    1                 654\n",
       "2    2                 941\n",
       "3    3                1434\n",
       "4    4                2118\n",
       "..  ..                 ...\n",
       "87  87             2317758\n",
       "88  88             2401101\n",
       "89  89             2472258\n",
       "90  90             2549293\n",
       "91  91             2623413\n",
       "\n",
       "[92 rows x 2 columns]"
      ]
     },
     "execution_count": 45,
     "metadata": {},
     "output_type": "execute_result"
    }
   ],
   "source": [
    "global_covid_plot"
   ]
  },
  {
   "cell_type": "code",
   "execution_count": 46,
   "metadata": {},
   "outputs": [
    {
     "data": {
      "text/html": [
       "<div>\n",
       "<style scoped>\n",
       "    .dataframe tbody tr th:only-of-type {\n",
       "        vertical-align: middle;\n",
       "    }\n",
       "\n",
       "    .dataframe tbody tr th {\n",
       "        vertical-align: top;\n",
       "    }\n",
       "\n",
       "    .dataframe thead th {\n",
       "        text-align: right;\n",
       "    }\n",
       "</style>\n",
       "<table border=\"1\" class=\"dataframe\">\n",
       "  <thead>\n",
       "    <tr style=\"text-align: right;\">\n",
       "      <th></th>\n",
       "      <th>0</th>\n",
       "      <th>world active cases</th>\n",
       "      <th>Global deaths</th>\n",
       "      <th>Global recovered cases</th>\n",
       "    </tr>\n",
       "  </thead>\n",
       "  <tbody>\n",
       "    <tr>\n",
       "      <td>0</td>\n",
       "      <td>0</td>\n",
       "      <td>555</td>\n",
       "      <td>17</td>\n",
       "      <td>28</td>\n",
       "    </tr>\n",
       "    <tr>\n",
       "      <td>1</td>\n",
       "      <td>1</td>\n",
       "      <td>654</td>\n",
       "      <td>18</td>\n",
       "      <td>30</td>\n",
       "    </tr>\n",
       "    <tr>\n",
       "      <td>2</td>\n",
       "      <td>2</td>\n",
       "      <td>941</td>\n",
       "      <td>26</td>\n",
       "      <td>36</td>\n",
       "    </tr>\n",
       "    <tr>\n",
       "      <td>3</td>\n",
       "      <td>3</td>\n",
       "      <td>1434</td>\n",
       "      <td>42</td>\n",
       "      <td>39</td>\n",
       "    </tr>\n",
       "    <tr>\n",
       "      <td>4</td>\n",
       "      <td>4</td>\n",
       "      <td>2118</td>\n",
       "      <td>56</td>\n",
       "      <td>52</td>\n",
       "    </tr>\n",
       "    <tr>\n",
       "      <td>...</td>\n",
       "      <td>...</td>\n",
       "      <td>...</td>\n",
       "      <td>...</td>\n",
       "      <td>...</td>\n",
       "    </tr>\n",
       "    <tr>\n",
       "      <td>87</td>\n",
       "      <td>87</td>\n",
       "      <td>2317758</td>\n",
       "      <td>159509</td>\n",
       "      <td>592319</td>\n",
       "    </tr>\n",
       "    <tr>\n",
       "      <td>88</td>\n",
       "      <td>88</td>\n",
       "      <td>2401101</td>\n",
       "      <td>165043</td>\n",
       "      <td>623903</td>\n",
       "    </tr>\n",
       "    <tr>\n",
       "      <td>89</td>\n",
       "      <td>89</td>\n",
       "      <td>2472258</td>\n",
       "      <td>169985</td>\n",
       "      <td>645738</td>\n",
       "    </tr>\n",
       "    <tr>\n",
       "      <td>90</td>\n",
       "      <td>90</td>\n",
       "      <td>2549293</td>\n",
       "      <td>176582</td>\n",
       "      <td>679819</td>\n",
       "    </tr>\n",
       "    <tr>\n",
       "      <td>91</td>\n",
       "      <td>91</td>\n",
       "      <td>2623413</td>\n",
       "      <td>183025</td>\n",
       "      <td>709694</td>\n",
       "    </tr>\n",
       "  </tbody>\n",
       "</table>\n",
       "<p>92 rows × 4 columns</p>\n",
       "</div>"
      ],
      "text/plain": [
       "     0  world active cases  Global deaths  Global recovered cases\n",
       "0    0                 555             17                      28\n",
       "1    1                 654             18                      30\n",
       "2    2                 941             26                      36\n",
       "3    3                1434             42                      39\n",
       "4    4                2118             56                      52\n",
       "..  ..                 ...            ...                     ...\n",
       "87  87             2317758         159509                  592319\n",
       "88  88             2401101         165043                  623903\n",
       "89  89             2472258         169985                  645738\n",
       "90  90             2549293         176582                  679819\n",
       "91  91             2623413         183025                  709694\n",
       "\n",
       "[92 rows x 4 columns]"
      ]
     },
     "execution_count": 46,
     "metadata": {},
     "output_type": "execute_result"
    }
   ],
   "source": [
    "global_covid_plot['Global deaths']=pd.Series(total_deaths.flatten())\n",
    "global_covid_plot['Global recovered cases']=pd.Series(total_recovered.flatten())\n",
    "global_covid_plot"
   ]
  },
  {
   "cell_type": "code",
   "execution_count": 47,
   "metadata": {
    "scrolled": true
   },
   "outputs": [
    {
     "data": {
      "text/html": [
       "<div>\n",
       "<style scoped>\n",
       "    .dataframe tbody tr th:only-of-type {\n",
       "        vertical-align: middle;\n",
       "    }\n",
       "\n",
       "    .dataframe tbody tr th {\n",
       "        vertical-align: top;\n",
       "    }\n",
       "\n",
       "    .dataframe thead th {\n",
       "        text-align: right;\n",
       "    }\n",
       "</style>\n",
       "<table border=\"1\" class=\"dataframe\">\n",
       "  <thead>\n",
       "    <tr style=\"text-align: right;\">\n",
       "      <th></th>\n",
       "      <th>Date</th>\n",
       "      <th>world active cases</th>\n",
       "      <th>Global deaths</th>\n",
       "      <th>Global recovered cases</th>\n",
       "    </tr>\n",
       "  </thead>\n",
       "  <tbody>\n",
       "    <tr>\n",
       "      <td>0</td>\n",
       "      <td>0</td>\n",
       "      <td>555</td>\n",
       "      <td>17</td>\n",
       "      <td>28</td>\n",
       "    </tr>\n",
       "    <tr>\n",
       "      <td>1</td>\n",
       "      <td>1</td>\n",
       "      <td>654</td>\n",
       "      <td>18</td>\n",
       "      <td>30</td>\n",
       "    </tr>\n",
       "    <tr>\n",
       "      <td>2</td>\n",
       "      <td>2</td>\n",
       "      <td>941</td>\n",
       "      <td>26</td>\n",
       "      <td>36</td>\n",
       "    </tr>\n",
       "    <tr>\n",
       "      <td>3</td>\n",
       "      <td>3</td>\n",
       "      <td>1434</td>\n",
       "      <td>42</td>\n",
       "      <td>39</td>\n",
       "    </tr>\n",
       "    <tr>\n",
       "      <td>4</td>\n",
       "      <td>4</td>\n",
       "      <td>2118</td>\n",
       "      <td>56</td>\n",
       "      <td>52</td>\n",
       "    </tr>\n",
       "    <tr>\n",
       "      <td>...</td>\n",
       "      <td>...</td>\n",
       "      <td>...</td>\n",
       "      <td>...</td>\n",
       "      <td>...</td>\n",
       "    </tr>\n",
       "    <tr>\n",
       "      <td>87</td>\n",
       "      <td>87</td>\n",
       "      <td>2317758</td>\n",
       "      <td>159509</td>\n",
       "      <td>592319</td>\n",
       "    </tr>\n",
       "    <tr>\n",
       "      <td>88</td>\n",
       "      <td>88</td>\n",
       "      <td>2401101</td>\n",
       "      <td>165043</td>\n",
       "      <td>623903</td>\n",
       "    </tr>\n",
       "    <tr>\n",
       "      <td>89</td>\n",
       "      <td>89</td>\n",
       "      <td>2472258</td>\n",
       "      <td>169985</td>\n",
       "      <td>645738</td>\n",
       "    </tr>\n",
       "    <tr>\n",
       "      <td>90</td>\n",
       "      <td>90</td>\n",
       "      <td>2549293</td>\n",
       "      <td>176582</td>\n",
       "      <td>679819</td>\n",
       "    </tr>\n",
       "    <tr>\n",
       "      <td>91</td>\n",
       "      <td>91</td>\n",
       "      <td>2623413</td>\n",
       "      <td>183025</td>\n",
       "      <td>709694</td>\n",
       "    </tr>\n",
       "  </tbody>\n",
       "</table>\n",
       "<p>92 rows × 4 columns</p>\n",
       "</div>"
      ],
      "text/plain": [
       "    Date  world active cases  Global deaths  Global recovered cases\n",
       "0      0                 555             17                      28\n",
       "1      1                 654             18                      30\n",
       "2      2                 941             26                      36\n",
       "3      3                1434             42                      39\n",
       "4      4                2118             56                      52\n",
       "..   ...                 ...            ...                     ...\n",
       "87    87             2317758         159509                  592319\n",
       "88    88             2401101         165043                  623903\n",
       "89    89             2472258         169985                  645738\n",
       "90    90             2549293         176582                  679819\n",
       "91    91             2623413         183025                  709694\n",
       "\n",
       "[92 rows x 4 columns]"
      ]
     },
     "execution_count": 47,
     "metadata": {},
     "output_type": "execute_result"
    }
   ],
   "source": [
    "global_covid_plot = global_covid_plot.rename(columns= {0: 'Date'})\n",
    "global_covid_plot"
   ]
  },
  {
   "cell_type": "code",
   "execution_count": null,
   "metadata": {},
   "outputs": [],
   "source": []
  },
  {
   "cell_type": "code",
   "execution_count": 48,
   "metadata": {
    "scrolled": true
   },
   "outputs": [
    {
     "data": {
      "text/plain": [
       "<matplotlib.axes._subplots.AxesSubplot at 0x286a2101848>"
      ]
     },
     "execution_count": 48,
     "metadata": {},
     "output_type": "execute_result"
    },
    {
     "data": {
      "image/png": "[encoded data removed]",
      "text/plain": [
       "<Figure size 1440x648 with 1 Axes>"
      ]
     },
     "metadata": {
      "needs_background": "light"
     },
     "output_type": "display_data"
    }
   ],
   "source": [
    "import seaborn as sb\n",
    "plt.figure(figsize=(20,9))\n",
    "sb.lineplot(data=global_covid_plot, x='Date',y='Global deaths', label=\"Deaths\")\n",
    "sb.lineplot(data=global_covid_plot, x='Date',y='Global recovered cases', label=\"Cured\")\n",
    "sb.lineplot(data=global_covid_plot, x='Date',y='world active cases', label=\"Total active global cases \")"
   ]
  },
  {
   "cell_type": "code",
   "execution_count": 49,
   "metadata": {},
   "outputs": [],
   "source": [
    "X=days_since_jan22\n",
    "Y=world_cases"
   ]
  },
  {
   "cell_type": "markdown",
   "metadata": {},
   "source": [
    "#### Now that we have analysed the present data, we move towards setting up our Support Vector Machine(SVM) Model\n"
   ]
  },
  {
   "cell_type": "code",
   "execution_count": 50,
   "metadata": {},
   "outputs": [],
   "source": [
    "X_train, X_test, Y_train, Y_test = train_test_split(days_since_jan22, world_cases, test_size=0.15, shuffle=False)"
   ]
  },
  {
   "cell_type": "code",
   "execution_count": 51,
   "metadata": {},
   "outputs": [
    {
     "data": {
      "text/plain": [
       "LinearRegression(copy_X=True, fit_intercept=True, n_jobs=None, normalize=False)"
      ]
     },
     "execution_count": 51,
     "metadata": {},
     "output_type": "execute_result"
    }
   ],
   "source": [
    "#fit SLR to training set \n",
    "from sklearn.linear_model import LinearRegression\n",
    "regressor= LinearRegression()#regressor is object which learns the relaltion and take data\n",
    "regressor.fit(X_train, Y_train)"
   ]
  },
  {
   "cell_type": "code",
   "execution_count": 52,
   "metadata": {},
   "outputs": [
    {
     "data": {
      "text/plain": [
       "array([[775451.2980353 ],\n",
       "       [788504.39094239],\n",
       "       [801557.48384948],\n",
       "       [814610.57675658],\n",
       "       [827663.66966367],\n",
       "       [840716.76257076],\n",
       "       [853769.85547786],\n",
       "       [866822.94838495],\n",
       "       [879876.04129204],\n",
       "       [892929.13419913],\n",
       "       [905982.22710623],\n",
       "       [919035.32001332],\n",
       "       [932088.41292041],\n",
       "       [945141.50582751]])"
      ]
     },
     "execution_count": 52,
     "metadata": {},
     "output_type": "execute_result"
    }
   ],
   "source": [
    "Y_pred=regressor.predict(X_test)\n",
    "Y_pred"
   ]
  },
  {
   "cell_type": "code",
   "execution_count": 53,
   "metadata": {
    "scrolled": true
   },
   "outputs": [
    {
     "data": {
      "image/png": "[encoded data removed]",
      "text/plain": [
       "<Figure size 432x288 with 1 Axes>"
      ]
     },
     "metadata": {
      "needs_background": "light"
     },
     "output_type": "display_data"
    }
   ],
   "source": [
    "#visualize training test results \n",
    "plt.scatter(X_train, Y_train, color='red')\n",
    "plt.plot(X_train, regressor.predict(X_train), color='blue')\n",
    "plt.title('SLR plot actual vs pred cases')\n",
    "plt.xlabel('days since first case in India')\n",
    "plt.ylabel('total Indian cases')\n",
    "plt.show()"
   ]
  },
  {
   "cell_type": "code",
   "execution_count": 54,
   "metadata": {},
   "outputs": [],
   "source": [
    "from sklearn.metrics import mean_squared_error\n",
    "from math import sqrt\n",
    "rmse = sqrt(mean_squared_error(Y_train, regressor.predict(X_train)))"
   ]
  },
  {
   "cell_type": "code",
   "execution_count": 55,
   "metadata": {},
   "outputs": [
    {
     "name": "stdout",
     "output_type": "stream",
     "text": [
      "Train Error: \n",
      "231287.5164709923\n"
     ]
    }
   ],
   "source": [
    "print(\"Train Error: \")\n",
    "print(rmse)"
   ]
  },
  {
   "cell_type": "code",
   "execution_count": 56,
   "metadata": {},
   "outputs": [
    {
     "name": "stdout",
     "output_type": "stream",
     "text": [
      "Test Error: \n",
      "1276168.7613026667\n"
     ]
    }
   ],
   "source": [
    "rmse_test = sqrt(mean_squared_error(Y_test, regressor.predict(X_test)))\n",
    "print(\"Test Error: \")\n",
    "print(rmse_test)"
   ]
  },
  {
   "cell_type": "code",
   "execution_count": 57,
   "metadata": {},
   "outputs": [
    {
     "name": "stderr",
     "output_type": "stream",
     "text": [
      "C:\\Users\\lappy\\Anaconda3\\lib\\site-packages\\sklearn\\linear_model\\logistic.py:432: FutureWarning: Default solver will be changed to 'lbfgs' in 0.22. Specify a solver to silence this warning.\n",
      "  FutureWarning)\n",
      "C:\\Users\\lappy\\Anaconda3\\lib\\site-packages\\sklearn\\utils\\validation.py:724: DataConversionWarning: A column-vector y was passed when a 1d array was expected. Please change the shape of y to (n_samples, ), for example using ravel().\n",
      "  y = column_or_1d(y, warn=True)\n",
      "C:\\Users\\lappy\\Anaconda3\\lib\\site-packages\\sklearn\\linear_model\\logistic.py:469: FutureWarning: Default multi_class will be changed to 'auto' in 0.22. Specify the multi_class option to silence this warning.\n",
      "  \"this warning.\", FutureWarning)\n"
     ]
    },
    {
     "data": {
      "text/plain": [
       "LogisticRegression(C=1.0, class_weight=None, dual=False, fit_intercept=True,\n",
       "                   intercept_scaling=1, l1_ratio=None, max_iter=100,\n",
       "                   multi_class='warn', n_jobs=None, penalty='l2',\n",
       "                   random_state=0, solver='warn', tol=0.0001, verbose=0,\n",
       "                   warm_start=False)"
      ]
     },
     "execution_count": 57,
     "metadata": {},
     "output_type": "execute_result"
    }
   ],
   "source": [
    "# LOGISTIC REGRESSION MODEL\n",
    "from sklearn.linear_model import LogisticRegression\n",
    "classifier = LogisticRegression(random_state = 0)\n",
    "classifier.fit(X, Y)"
   ]
  },
  {
   "cell_type": "code",
   "execution_count": 58,
   "metadata": {},
   "outputs": [
    {
     "data": {
      "image/png": "[encoded data removed]",
      "text/plain": [
       "<Figure size 432x288 with 1 Axes>"
      ]
     },
     "metadata": {
      "needs_background": "light"
     },
     "output_type": "display_data"
    }
   ],
   "source": [
    "#visualize training test results \n",
    "plt.scatter(X, Y, color='red')\n",
    "plt.plot(X, classifier.predict(X), color='blue')\n",
    "plt.title('SLR plot actual vs pred cases')\n",
    "plt.xlabel('days since first case in India')\n",
    "plt.ylabel('total Indian cases')\n",
    "plt.show()"
   ]
  },
  {
   "cell_type": "code",
   "execution_count": 59,
   "metadata": {},
   "outputs": [],
   "source": [
    "#Checking the accuracy of the Model\n",
    "\n",
    "rmse_train_log = sqrt(mean_squared_error(Y_train, classifier.predict(X_train)))\n",
    "rmse_test_log = sqrt(mean_squared_error(Y_test, classifier.predict(X_test)))"
   ]
  },
  {
   "cell_type": "code",
   "execution_count": 60,
   "metadata": {},
   "outputs": [
    {
     "name": "stdout",
     "output_type": "stream",
     "text": [
      "\n",
      "Train RMSE: \n",
      "1995430.8782859598\n",
      "\n",
      "Test RMSE: \n",
      "612941.1324516758\n"
     ]
    }
   ],
   "source": [
    "print(\"\\nTrain RMSE: \")\n",
    "print(rmse_train_log)\n",
    "print(\"\\nTest RMSE: \")\n",
    "print(rmse_test_log)"
   ]
  },
  {
   "cell_type": "code",
   "execution_count": 61,
   "metadata": {},
   "outputs": [],
   "source": [
    "#SVR regression testing\n",
    "#feature scaling\n",
    "from sklearn.preprocessing import StandardScaler\n",
    "Y_sv=Y\n",
    "Y_sv = np.array(Y_sv).reshape(-1,1)\n",
    "sc_X = StandardScaler()\n",
    "sc_y = StandardScaler()\n",
    "X_svr = sc_X.fit_transform(X)\n",
    "Y_svr = sc_y.fit_transform(Y_sv)"
   ]
  },
  {
   "cell_type": "code",
   "execution_count": 62,
   "metadata": {},
   "outputs": [
    {
     "data": {
      "text/plain": [
       "(92, 1)"
      ]
     },
     "execution_count": 62,
     "metadata": {},
     "output_type": "execute_result"
    }
   ],
   "source": [
    "X_svr.shape"
   ]
  },
  {
   "cell_type": "code",
   "execution_count": 63,
   "metadata": {},
   "outputs": [
    {
     "data": {
      "text/plain": [
       "(92, 1)"
      ]
     },
     "execution_count": 63,
     "metadata": {},
     "output_type": "execute_result"
    }
   ],
   "source": [
    "Y_svr.shape"
   ]
  },
  {
   "cell_type": "code",
   "execution_count": 64,
   "metadata": {},
   "outputs": [
    {
     "name": "stderr",
     "output_type": "stream",
     "text": [
      "C:\\Users\\lappy\\Anaconda3\\lib\\site-packages\\sklearn\\utils\\validation.py:724: DataConversionWarning: A column-vector y was passed when a 1d array was expected. Please change the shape of y to (n_samples, ), for example using ravel().\n",
      "  y = column_or_1d(y, warn=True)\n"
     ]
    },
    {
     "data": {
      "text/plain": [
       "SVR(C=1.0, cache_size=200, coef0=0.0, degree=3, epsilon=0.1,\n",
       "    gamma='auto_deprecated', kernel='rbf', max_iter=-1, shrinking=True,\n",
       "    tol=0.001, verbose=False)"
      ]
     },
     "execution_count": 64,
     "metadata": {},
     "output_type": "execute_result"
    }
   ],
   "source": [
    "from sklearn.svm import SVR\n",
    "svr_regressor=SVR(kernel='rbf')#kernel defines linear, multiple SVR etc\n",
    "svr_regressor.fit(X_svr,Y_svr)"
   ]
  },
  {
   "cell_type": "code",
   "execution_count": 65,
   "metadata": {},
   "outputs": [],
   "source": [
    "Y_pred_svr=svr_regressor.predict(X_svr)"
   ]
  },
  {
   "cell_type": "code",
   "execution_count": 66,
   "metadata": {},
   "outputs": [
    {
     "data": {
      "image/png": "[encoded data removed]",
      "text/plain": [
       "<Figure size 432x288 with 1 Axes>"
      ]
     },
     "metadata": {
      "needs_background": "light"
     },
     "output_type": "display_data"
    }
   ],
   "source": [
    "plt.scatter(X_svr, Y_svr, color = 'red')\n",
    "plt.plot(X_svr, Y_pred_svr, color = 'blue')\n",
    "plt.title('SVR plot actual vs pred (Regression Model)')\n",
    "plt.xlabel('days since first case in India')\n",
    "plt.ylabel('total Indian cases')\n",
    "plt.show()"
   ]
  },
  {
   "cell_type": "code",
   "execution_count": 67,
   "metadata": {},
   "outputs": [],
   "source": [
    "# Splitting the dataset into the Training set and Test set\n",
    "X_train, X_test, Y_train, Y_test = train_test_split(X_svr, Y_svr, test_size =0.15, random_state = 0)"
   ]
  },
  {
   "cell_type": "code",
   "execution_count": 68,
   "metadata": {},
   "outputs": [
    {
     "name": "stdout",
     "output_type": "stream",
     "text": [
      "\n",
      "Train RMSE: \n",
      "0.08606041388906412\n",
      "\n",
      "Test RMSE: \n",
      "0.08241278536739913\n"
     ]
    }
   ],
   "source": [
    "rmse_train_svr = sqrt(mean_squared_error(Y_train, svr_regressor.predict(X_train)))\n",
    "rmse_test_svr = sqrt(mean_squared_error(Y_test, svr_regressor.predict(X_test)))\n",
    "\n",
    "\n",
    "print(\"\\nTrain RMSE: \")\n",
    "print(rmse_train_svr)\n",
    "print(\"\\nTest RMSE: \")\n",
    "print(rmse_test_svr)"
   ]
  },
  {
   "cell_type": "code",
   "execution_count": 69,
   "metadata": {},
   "outputs": [
    {
     "name": "stderr",
     "output_type": "stream",
     "text": [
      "C:\\Users\\lappy\\Anaconda3\\lib\\site-packages\\sklearn\\utils\\validation.py:724: DataConversionWarning: A column-vector y was passed when a 1d array was expected. Please change the shape of y to (n_samples, ), for example using ravel().\n",
      "  y = column_or_1d(y, warn=True)\n",
      "C:\\Users\\lappy\\Anaconda3\\lib\\site-packages\\sklearn\\svm\\base.py:193: FutureWarning: The default value of gamma will change from 'auto' to 'scale' in version 0.22 to account better for unscaled features. Set gamma explicitly to 'auto' or 'scale' to avoid this warning.\n",
      "  \"avoid this warning.\", FutureWarning)\n",
      "C:\\Users\\lappy\\Anaconda3\\lib\\site-packages\\sklearn\\utils\\validation.py:724: DataConversionWarning: A column-vector y was passed when a 1d array was expected. Please change the shape of y to (n_samples, ), for example using ravel().\n",
      "  y = column_or_1d(y, warn=True)\n",
      "C:\\Users\\lappy\\Anaconda3\\lib\\site-packages\\sklearn\\svm\\base.py:193: FutureWarning: The default value of gamma will change from 'auto' to 'scale' in version 0.22 to account better for unscaled features. Set gamma explicitly to 'auto' or 'scale' to avoid this warning.\n",
      "  \"avoid this warning.\", FutureWarning)\n",
      "C:\\Users\\lappy\\Anaconda3\\lib\\site-packages\\sklearn\\utils\\validation.py:724: DataConversionWarning: A column-vector y was passed when a 1d array was expected. Please change the shape of y to (n_samples, ), for example using ravel().\n",
      "  y = column_or_1d(y, warn=True)\n",
      "C:\\Users\\lappy\\Anaconda3\\lib\\site-packages\\sklearn\\svm\\base.py:193: FutureWarning: The default value of gamma will change from 'auto' to 'scale' in version 0.22 to account better for unscaled features. Set gamma explicitly to 'auto' or 'scale' to avoid this warning.\n",
      "  \"avoid this warning.\", FutureWarning)\n",
      "C:\\Users\\lappy\\Anaconda3\\lib\\site-packages\\sklearn\\utils\\validation.py:724: DataConversionWarning: A column-vector y was passed when a 1d array was expected. Please change the shape of y to (n_samples, ), for example using ravel().\n",
      "  y = column_or_1d(y, warn=True)\n",
      "C:\\Users\\lappy\\Anaconda3\\lib\\site-packages\\sklearn\\svm\\base.py:193: FutureWarning: The default value of gamma will change from 'auto' to 'scale' in version 0.22 to account better for unscaled features. Set gamma explicitly to 'auto' or 'scale' to avoid this warning.\n",
      "  \"avoid this warning.\", FutureWarning)\n",
      "C:\\Users\\lappy\\Anaconda3\\lib\\site-packages\\sklearn\\utils\\validation.py:724: DataConversionWarning: A column-vector y was passed when a 1d array was expected. Please change the shape of y to (n_samples, ), for example using ravel().\n",
      "  y = column_or_1d(y, warn=True)\n",
      "C:\\Users\\lappy\\Anaconda3\\lib\\site-packages\\sklearn\\svm\\base.py:193: FutureWarning: The default value of gamma will change from 'auto' to 'scale' in version 0.22 to account better for unscaled features. Set gamma explicitly to 'auto' or 'scale' to avoid this warning.\n",
      "  \"avoid this warning.\", FutureWarning)\n",
      "C:\\Users\\lappy\\Anaconda3\\lib\\site-packages\\sklearn\\utils\\validation.py:724: DataConversionWarning: A column-vector y was passed when a 1d array was expected. Please change the shape of y to (n_samples, ), for example using ravel().\n",
      "  y = column_or_1d(y, warn=True)\n",
      "C:\\Users\\lappy\\Anaconda3\\lib\\site-packages\\sklearn\\svm\\base.py:193: FutureWarning: The default value of gamma will change from 'auto' to 'scale' in version 0.22 to account better for unscaled features. Set gamma explicitly to 'auto' or 'scale' to avoid this warning.\n",
      "  \"avoid this warning.\", FutureWarning)\n",
      "C:\\Users\\lappy\\Anaconda3\\lib\\site-packages\\sklearn\\utils\\validation.py:724: DataConversionWarning: A column-vector y was passed when a 1d array was expected. Please change the shape of y to (n_samples, ), for example using ravel().\n",
      "  y = column_or_1d(y, warn=True)\n",
      "C:\\Users\\lappy\\Anaconda3\\lib\\site-packages\\sklearn\\svm\\base.py:193: FutureWarning: The default value of gamma will change from 'auto' to 'scale' in version 0.22 to account better for unscaled features. Set gamma explicitly to 'auto' or 'scale' to avoid this warning.\n",
      "  \"avoid this warning.\", FutureWarning)\n",
      "C:\\Users\\lappy\\Anaconda3\\lib\\site-packages\\sklearn\\utils\\validation.py:724: DataConversionWarning: A column-vector y was passed when a 1d array was expected. Please change the shape of y to (n_samples, ), for example using ravel().\n",
      "  y = column_or_1d(y, warn=True)\n",
      "C:\\Users\\lappy\\Anaconda3\\lib\\site-packages\\sklearn\\svm\\base.py:193: FutureWarning: The default value of gamma will change from 'auto' to 'scale' in version 0.22 to account better for unscaled features. Set gamma explicitly to 'auto' or 'scale' to avoid this warning.\n",
      "  \"avoid this warning.\", FutureWarning)\n",
      "C:\\Users\\lappy\\Anaconda3\\lib\\site-packages\\sklearn\\utils\\validation.py:724: DataConversionWarning: A column-vector y was passed when a 1d array was expected. Please change the shape of y to (n_samples, ), for example using ravel().\n",
      "  y = column_or_1d(y, warn=True)\n",
      "C:\\Users\\lappy\\Anaconda3\\lib\\site-packages\\sklearn\\svm\\base.py:193: FutureWarning: The default value of gamma will change from 'auto' to 'scale' in version 0.22 to account better for unscaled features. Set gamma explicitly to 'auto' or 'scale' to avoid this warning.\n",
      "  \"avoid this warning.\", FutureWarning)\n",
      "C:\\Users\\lappy\\Anaconda3\\lib\\site-packages\\sklearn\\utils\\validation.py:724: DataConversionWarning: A column-vector y was passed when a 1d array was expected. Please change the shape of y to (n_samples, ), for example using ravel().\n",
      "  y = column_or_1d(y, warn=True)\n",
      "C:\\Users\\lappy\\Anaconda3\\lib\\site-packages\\sklearn\\svm\\base.py:193: FutureWarning: The default value of gamma will change from 'auto' to 'scale' in version 0.22 to account better for unscaled features. Set gamma explicitly to 'auto' or 'scale' to avoid this warning.\n",
      "  \"avoid this warning.\", FutureWarning)\n"
     ]
    }
   ],
   "source": [
    "from sklearn.model_selection import cross_val_score\n",
    "\n",
    "accuracy = cross_val_score(estimator = svr_regressor, X = X_train, y = Y_train, cv = 10)"
   ]
  },
  {
   "cell_type": "code",
   "execution_count": 70,
   "metadata": {},
   "outputs": [
    {
     "data": {
      "text/plain": [
       "0.9685648766407358"
      ]
     },
     "execution_count": 70,
     "metadata": {},
     "output_type": "execute_result"
    }
   ],
   "source": [
    "accuracy.mean()"
   ]
  },
  {
   "cell_type": "code",
   "execution_count": 71,
   "metadata": {
    "scrolled": true
   },
   "outputs": [
    {
     "ename": "NameError",
     "evalue": "name 'X_train_confirmed' is not defined",
     "output_type": "error",
     "traceback": [
      "\u001b[1;31m---------------------------------------------------------------------------\u001b[0m",
      "\u001b[1;31mNameError\u001b[0m                                 Traceback (most recent call last)",
      "\u001b[1;32m<ipython-input-71-51b1bc59e6bf>\u001b[0m in \u001b[0;36m<module>\u001b[1;34m\u001b[0m\n\u001b[0;32m     16\u001b[0m \u001b[1;31m#using RandomizedCVSearch\u001b[0m\u001b[1;33m\u001b[0m\u001b[1;33m\u001b[0m\u001b[1;33m\u001b[0m\u001b[0m\n\u001b[0;32m     17\u001b[0m \u001b[0msvm_search\u001b[0m \u001b[1;33m=\u001b[0m \u001b[0mRandomizedSearchCV\u001b[0m\u001b[1;33m(\u001b[0m\u001b[0msvm\u001b[0m\u001b[1;33m,\u001b[0m \u001b[0msvm_grid\u001b[0m\u001b[1;33m,\u001b[0m \u001b[0mscoring\u001b[0m\u001b[1;33m=\u001b[0m\u001b[1;34m'neg_mean_squared_error'\u001b[0m\u001b[1;33m,\u001b[0m\u001b[0mcv\u001b[0m\u001b[1;33m=\u001b[0m\u001b[1;36m3\u001b[0m\u001b[1;33m,\u001b[0m \u001b[0mreturn_train_score\u001b[0m\u001b[1;33m=\u001b[0m\u001b[1;32mTrue\u001b[0m\u001b[1;33m,\u001b[0m \u001b[0mn_jobs\u001b[0m\u001b[1;33m=\u001b[0m\u001b[1;33m-\u001b[0m\u001b[1;36m1\u001b[0m\u001b[1;33m,\u001b[0m \u001b[0mn_iter\u001b[0m\u001b[1;33m=\u001b[0m\u001b[1;36m40\u001b[0m\u001b[1;33m,\u001b[0m \u001b[0mverbose\u001b[0m\u001b[1;33m=\u001b[0m\u001b[1;36m1\u001b[0m\u001b[1;33m)\u001b[0m\u001b[1;33m\u001b[0m\u001b[1;33m\u001b[0m\u001b[0m\n\u001b[1;32m---> 18\u001b[1;33m \u001b[0msvm_search\u001b[0m\u001b[1;33m.\u001b[0m\u001b[0mfit\u001b[0m\u001b[1;33m(\u001b[0m\u001b[0mX_train_confirmed\u001b[0m\u001b[1;33m,\u001b[0m \u001b[0my_train_confirmed\u001b[0m\u001b[1;33m.\u001b[0m\u001b[0mvalues\u001b[0m\u001b[1;33m.\u001b[0m\u001b[0mravel\u001b[0m\u001b[1;33m(\u001b[0m\u001b[1;33m)\u001b[0m\u001b[1;33m)\u001b[0m\u001b[1;33m\u001b[0m\u001b[1;33m\u001b[0m\u001b[0m\n\u001b[0m",
      "\u001b[1;31mNameError\u001b[0m: name 'X_train_confirmed' is not defined"
     ]
    }
   ],
   "source": [
    "kernel = ['poly', 'sigmoid', 'rbf'] #kernel type in the algortihm\n",
    "\n",
    "c = [0.01, 0.1, 10] #c is a regularisation parameter\n",
    "\n",
    "gamma = [0.01, 0.1, 1] #kernel coefficient of poly, sigmoid and rbf\n",
    "\n",
    "epsilon = [0.01, 0.1, 1] #no penalty for training loss function\n",
    "\n",
    "shrinking =  [True, False]\n",
    "\n",
    "svm_grid = {'kernel':kernel, 'C':c, 'gamma':gamma, 'epsilon':epsilon, 'shrinking':shrinking}\n",
    "\n",
    "svm = SVR()\n",
    "\n",
    "\n",
    "#using RandomizedCVSearch\n",
    "svm_search = RandomizedSearchCV(svm, svm_grid, scoring='neg_mean_squared_error',cv=3, return_train_score=True, n_jobs=-1, n_iter=40, verbose=1)\n",
    "svm_search.fit(X_train_confirmed, y_train_confirmed.values.ravel())"
   ]
  },
  {
   "cell_type": "code",
   "execution_count": null,
   "metadata": {},
   "outputs": [],
   "source": [
    "global_data = cases_countr"
   ]
  },
  {
   "cell_type": "code",
   "execution_count": null,
   "metadata": {},
   "outputs": [],
   "source": []
  }
 ],
 "metadata": {
  "kernelspec": {
   "display_name": "Python 3",
   "language": "python",
   "name": "python3"
  },
  "language_info": {
   "codemirror_mode": {
    "name": "ipython",
    "version": 3
   },
   "file_extension": ".py",
   "mimetype": "text/x-python",
   "name": "python",
   "nbconvert_exporter": "python",
   "pygments_lexer": "ipython3",
   "version": "3.7.4"
  }
 },
 "nbformat": 4,
 "nbformat_minor": 4
}
