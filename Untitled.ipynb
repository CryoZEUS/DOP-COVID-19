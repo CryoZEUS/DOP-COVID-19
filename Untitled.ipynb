{
 "cells": [
  {
   "cell_type": "markdown",
   "metadata": {},
   "source": [
    "# Flattening the COVID-19 Curve\n",
    "\n",
    "\n",
    "\n",
    "### Context\n",
    "\n",
    "Coronaviruses are a large family of viruses which may cause illness in animals or humans. In humans, several coronaviruses are known to cause respiratory infections ranging from the common cold to more severe diseases such as Middle East Respiratory Syndrome (MERS) and Severe Acute Respiratory Syndrome (SARS). The most recently discovered coronavirus causes coronavirus disease COVID-19 - World Health Organization\n",
    "\n",
    "The number of new cases are increasing day by day around the world. This dataset has information from the states and union territories of India at daily level.\n",
    "\n",
    "State level data comes from Ministry of Health & Family Welfare\n",
    "\n",
    "Individual level data comes from covid19india\n",
    "\n",
    "\n",
    "### Inspiration\n",
    "\n",
    "Looking for data based suggestions to stop / delay the spread of virus\n",
    "\n",
    "\n",
    "### Acknowledgements\n",
    "\n",
    "\n",
    "Thanks to Indian Ministry of Health & Family Welfare for making the data available to general public.\n",
    "\n",
    "Thanks to covid19india.org for making the individual level details and testing details available to general public.\n",
    "\n",
    "Thanks to Wikipedia for population information.\n",
    "\n",
    "Photo Courtesy - https://hgis.uw.edu/virus/"
   ]
  },
  {
   "cell_type": "code",
   "execution_count": 4,
   "metadata": {},
   "outputs": [],
   "source": [
    "#Loading required packages\n",
    "\n",
    "import numpy as np\n",
    "import csv\n",
    "import matplotlib.pyplot as plt\n",
    "import os\n",
    "import pandas as pd\n",
    "import tarfile\n",
    "from six.moves import urllib"
   ]
  },
  {
   "cell_type": "markdown",
   "metadata": {},
   "source": [
    "Note : All data files are saved under covid_india/ directory"
   ]
  },
  {
   "cell_type": "code",
   "execution_count": 7,
   "metadata": {},
   "outputs": [
    {
     "name": "stdout",
     "output_type": "stream",
     "text": [
      "population_india_census2011.csv\n",
      "HospitalBedsIndia.csv\n",
      "AgeGroupDetails.csv\n",
      "ICMRTestingLabs.csv\n",
      "ICMRTestingDetails.csv\n",
      "covid_19_india.csv\n",
      "StatewiseTestingDetails.csv\n",
      "IndividualDetails.csv\n"
     ]
    }
   ],
   "source": [
    "for dirname, _, filenames in os.walk('/home/yash/projects/prediction_project/covid_india'):\n",
    "    for filename in filenames:\n",
    "        print(os.path.join(filename))"
   ]
  },
  {
   "cell_type": "code",
   "execution_count": 11,
   "metadata": {},
   "outputs": [
    {
     "data": {
      "text/html": [
       "<div>\n",
       "<style scoped>\n",
       "    .dataframe tbody tr th:only-of-type {\n",
       "        vertical-align: middle;\n",
       "    }\n",
       "\n",
       "    .dataframe tbody tr th {\n",
       "        vertical-align: top;\n",
       "    }\n",
       "\n",
       "    .dataframe thead th {\n",
       "        text-align: right;\n",
       "    }\n",
       "</style>\n",
       "<table border=\"1\" class=\"dataframe\">\n",
       "  <thead>\n",
       "    <tr style=\"text-align: right;\">\n",
       "      <th></th>\n",
       "      <th>Sno</th>\n",
       "      <th>AgeGroup</th>\n",
       "      <th>TotalCases</th>\n",
       "      <th>Percentage</th>\n",
       "    </tr>\n",
       "  </thead>\n",
       "  <tbody>\n",
       "    <tr>\n",
       "      <th>0</th>\n",
       "      <td>1</td>\n",
       "      <td>0-9</td>\n",
       "      <td>22</td>\n",
       "      <td>3.18%</td>\n",
       "    </tr>\n",
       "    <tr>\n",
       "      <th>1</th>\n",
       "      <td>2</td>\n",
       "      <td>10-19</td>\n",
       "      <td>27</td>\n",
       "      <td>3.90%</td>\n",
       "    </tr>\n",
       "    <tr>\n",
       "      <th>2</th>\n",
       "      <td>3</td>\n",
       "      <td>20-29</td>\n",
       "      <td>172</td>\n",
       "      <td>24.86%</td>\n",
       "    </tr>\n",
       "    <tr>\n",
       "      <th>3</th>\n",
       "      <td>4</td>\n",
       "      <td>30-39</td>\n",
       "      <td>146</td>\n",
       "      <td>21.10%</td>\n",
       "    </tr>\n",
       "    <tr>\n",
       "      <th>4</th>\n",
       "      <td>5</td>\n",
       "      <td>40-49</td>\n",
       "      <td>112</td>\n",
       "      <td>16.18%</td>\n",
       "    </tr>\n",
       "  </tbody>\n",
       "</table>\n",
       "</div>"
      ],
      "text/plain": [
       "   Sno AgeGroup  TotalCases Percentage\n",
       "0    1      0-9          22      3.18%\n",
       "1    2    10-19          27      3.90%\n",
       "2    3    20-29         172     24.86%\n",
       "3    4    30-39         146     21.10%\n",
       "4    5    40-49         112     16.18%"
      ]
     },
     "execution_count": 11,
     "metadata": {},
     "output_type": "execute_result"
    }
   ],
   "source": [
    "#Initialising Age Group Details\n",
    "age_group_data = pd.read_csv('/home/yash/projects/prediction_project/covid_india/AgeGroupDetails.csv')\n",
    "age_group_data.head()"
   ]
  },
  {
   "cell_type": "code",
   "execution_count": null,
   "metadata": {},
   "outputs": [],
   "source": []
  }
 ],
 "metadata": {
  "kernelspec": {
   "display_name": "Python 3",
   "language": "python",
   "name": "python3"
  },
  "language_info": {
   "codemirror_mode": {
    "name": "ipython",
    "version": 3
   },
   "file_extension": ".py",
   "mimetype": "text/x-python",
   "name": "python",
   "nbconvert_exporter": "python",
   "pygments_lexer": "ipython3",
   "version": "3.8.2"
  }
 },
 "nbformat": 4,
 "nbformat_minor": 4
}
